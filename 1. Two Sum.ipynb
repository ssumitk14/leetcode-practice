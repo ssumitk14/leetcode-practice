{
 "cells": [
  {
   "cell_type": "code",
   "execution_count": 1,
   "id": "b162ccae-54b1-4869-a3be-fbbf673fa5cf",
   "metadata": {},
   "outputs": [],
   "source": [
    "## Below solution is not most efficient way\n",
    "## Complexity = O(n^2)"
   ]
  },
  {
   "cell_type": "code",
   "execution_count": 20,
   "id": "91be1edb-8a22-4371-b003-8cff01818751",
   "metadata": {},
   "outputs": [
    {
     "data": {
      "text/plain": [
       "[0, 1]"
      ]
     },
     "execution_count": 20,
     "metadata": {},
     "output_type": "execute_result"
    }
   ],
   "source": [
    "class Solution:\n",
    "    def twoSum(self, nums: list[int], target: int) -> list[int]:\n",
    "        for i in range(len(nums)):\n",
    "            for j in range(i+1, len(nums)):\n",
    "                if nums[i]+nums[j] == target:\n",
    "                    return [i,j]\n",
    "    \n",
    "sol = Solution()\n",
    "a = [2,7,11,15]\n",
    "tar = 9\n",
    "sol.twoSum(a,tar)"
   ]
  },
  {
   "cell_type": "code",
   "execution_count": null,
   "id": "1fee1b40-319d-48c0-be36-88f5b2faa9e9",
   "metadata": {},
   "outputs": [],
   "source": [
    "## Complexity = O(n)"
   ]
  },
  {
   "cell_type": "code",
   "execution_count": 18,
   "id": "1e106483-979e-44d5-8c54-6b016476c07f",
   "metadata": {},
   "outputs": [
    {
     "data": {
      "text/plain": [
       "[3, 4]"
      ]
     },
     "execution_count": 18,
     "metadata": {},
     "output_type": "execute_result"
    }
   ],
   "source": [
    "class Solution:\n",
    "    def twoSum(self, nums: list[int], target: int) -> list[int]:\n",
    "        dct = {}\n",
    "        for index, value in enumerate(nums):\n",
    "            rem = target-value\n",
    "            if rem not in dct:\n",
    "                dct[value] = index\n",
    "            else:\n",
    "                return [dct[rem], index]\n",
    "    \n",
    "sol = Solution()\n",
    "nums = [2,7,11,15]\n",
    "tar = 9\n",
    "nums = [2,1,9,4,4,5,6,90,3]\n",
    "tar = 8\n",
    "sol.twoSum(nums,tar)"
   ]
  }
 ],
 "metadata": {
  "kernelspec": {
   "display_name": "Python 3 (ipykernel)",
   "language": "python",
   "name": "python3"
  },
  "language_info": {
   "codemirror_mode": {
    "name": "ipython",
    "version": 3
   },
   "file_extension": ".py",
   "mimetype": "text/x-python",
   "name": "python",
   "nbconvert_exporter": "python",
   "pygments_lexer": "ipython3",
   "version": "3.9.13"
  }
 },
 "nbformat": 4,
 "nbformat_minor": 5
}
