{
 "cells": [
  {
   "cell_type": "markdown",
   "id": "beb6f5e8-583e-4b5d-8f91-650c29738204",
   "metadata": {},
   "source": [
    "<div class=\"px-5 pt-4\"><div class=\"_1l1MA\" data-track-load=\"qd_description_content\"><p>Given an integer array <code>nums</code> sorted in <strong>non-decreasing order</strong>, remove the duplicates <a href=\"https://en.wikipedia.org/wiki/In-place_algorithm\" target=\"_blank\"><strong>in-place</strong></a> such that each unique element appears only <strong>once</strong>. The <strong>relative order</strong> of the elements should be kept the <strong>same</strong>. Then return <em>the number of unique elements in </em><code>nums</code>.</p>\n",
    "\n",
    "<p>Consider the number of unique elements of <code>nums</code> to be <code>k</code>, to get accepted, you need to do the following things:</p>\n",
    "\n",
    "<ul>\n",
    "\t<li>Change the array <code>nums</code> such that the first <code>k</code> elements of <code>nums</code> contain the unique elements in the order they were present in <code>nums</code> initially. The remaining elements of <code>nums</code> are not important as well as the size of <code>nums</code>.</li>\n",
    "\t<li>Return <code>k</code>.</li>\n",
    "</ul>\n",
    "\n",
    "<p><strong>Custom Judge:</strong></p>\n",
    "\n",
    "<p>The judge will test your solution with the following code:</p>\n",
    "\n",
    "<pre>int[] nums = [...]; // Input array\n",
    "int[] expectedNums = [...]; // The expected answer with correct length\n",
    "\n",
    "int k = removeDuplicates(nums); // Calls your implementation\n",
    "\n",
    "assert k == expectedNums.length;\n",
    "for (int i = 0; i &lt; k; i++) {\n",
    "    assert nums[i] == expectedNums[i];\n",
    "}\n",
    "</pre>\n",
    "\n",
    "<p>If all assertions pass, then your solution will be <strong>accepted</strong>.</p>\n",
    "\n",
    "<p>&nbsp;</p>\n",
    "<p><strong class=\"example\">Example 1:</strong></p>\n",
    "\n",
    "<pre><strong>Input:</strong> nums = [1,1,2]\n",
    "<strong>Output:</strong> 2, nums = [1,2,_]\n",
    "<strong>Explanation:</strong> Your function should return k = 2, with the first two elements of nums being 1 and 2 respectively.\n",
    "It does not matter what you leave beyond the returned k (hence they are underscores).\n",
    "</pre>\n",
    "\n",
    "<p><strong class=\"example\">Example 2:</strong></p>\n",
    "\n",
    "<pre><strong>Input:</strong> nums = [0,0,1,1,1,2,2,3,3,4]\n",
    "<strong>Output:</strong> 5, nums = [0,1,2,3,4,_,_,_,_,_]\n",
    "<strong>Explanation:</strong> Your function should return k = 5, with the first five elements of nums being 0, 1, 2, 3, and 4 respectively.\n",
    "It does not matter what you leave beyond the returned k (hence they are underscores).\n",
    "</pre>\n",
    "\n",
    "<p>&nbsp;</p>\n",
    "<p><strong>Constraints:</strong></p>\n",
    "\n",
    "<ul>\n",
    "\t<li><code>1 &lt;= nums.length &lt;= 3 * 10<sup>4</sup></code></li>\n",
    "\t<li><code>-100 &lt;= nums[i] &lt;= 100</code></li>\n",
    "\t<li><code>nums</code> is sorted in <strong>non-decreasing</strong> order.</li>\n",
    "</ul>\n",
    "</div></div>"
   ]
  },
  {
   "cell_type": "code",
   "execution_count": 86,
   "id": "2deb8462-66ce-49ee-bc8f-8ddb497a4f2b",
   "metadata": {},
   "outputs": [
    {
     "name": "stdout",
     "output_type": "stream",
     "text": [
      "3\n",
      "[-1, 0, 3, '_', '_', '_', '_']\n"
     ]
    }
   ],
   "source": [
    "class Solution:\n",
    "    def removeDuplicates(self, nums: list[int]) -> int:\n",
    "        count = 0\n",
    "        for value in set(nums):\n",
    "            if nums.count(value) >1:\n",
    "                count += nums.count(value) -1\n",
    "        nums[:] = sorted(list(set(nums)))  # For inplace assignment use colon \n",
    "        total = len(nums)\n",
    "        nums[:] = nums + [\"_\"]*count  # # For inplace assignment use colon \n",
    "        \n",
    "        return total, nums\n",
    "\n",
    "    \n",
    "sol = Solution()\n",
    "nums = [1,1,2]\n",
    "# nums = [5,1,1,1,4] #[0,0,1,1,1,2,2,3,3,4]\n",
    "nums = [-1,0,0,0,0,3,3]   \n",
    "count, nums = sol.removeDuplicates(nums)\n",
    "print(count)\n",
    "print(nums)\n"
   ]
  },
  {
   "cell_type": "code",
   "execution_count": null,
   "id": "b072ba22-b76f-42c0-9c8b-04eb05907a46",
   "metadata": {},
   "outputs": [],
   "source": []
  }
 ],
 "metadata": {
  "kernelspec": {
   "display_name": "Python 3 (ipykernel)",
   "language": "python",
   "name": "python3"
  },
  "language_info": {
   "codemirror_mode": {
    "name": "ipython",
    "version": 3
   },
   "file_extension": ".py",
   "mimetype": "text/x-python",
   "name": "python",
   "nbconvert_exporter": "python",
   "pygments_lexer": "ipython3",
   "version": "3.9.13"
  }
 },
 "nbformat": 4,
 "nbformat_minor": 5
}
