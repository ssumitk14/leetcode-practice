{
 "cells": [
  {
   "cell_type": "markdown",
   "id": "ef5dee7b-f6b4-4e91-81c8-47848d5ffd5b",
   "metadata": {},
   "source": [
    "<div class=\"_1l1MA\" data-track-load=\"qd_description_content\"><p>You are given a <strong>large integer</strong> represented as an integer array <code>digits</code>, where each <code>digits[i]</code> is the <code>i<sup>th</sup></code> digit of the integer. The digits are ordered from most significant to least significant in left-to-right order. The large integer does not contain any leading <code>0</code>'s.</p>\n",
    "\n",
    "<p>Increment the large integer by one and return <em>the resulting array of digits</em>.</p>\n",
    "\n",
    "<p>&nbsp;</p>\n",
    "<p><strong class=\"example\">Example 1:</strong></p>\n",
    "\n",
    "<pre><strong>Input:</strong> digits = [1,2,3]\n",
    "<strong>Output:</strong> [1,2,4]\n",
    "<strong>Explanation:</strong> The array represents the integer 123.\n",
    "Incrementing by one gives 123 + 1 = 124.\n",
    "Thus, the result should be [1,2,4].\n",
    "</pre>\n",
    "\n",
    "<p><strong class=\"example\">Example 2:</strong></p>\n",
    "\n",
    "<pre><strong>Input:</strong> digits = [4,3,2,1]\n",
    "<strong>Output:</strong> [4,3,2,2]\n",
    "<strong>Explanation:</strong> The array represents the integer 4321.\n",
    "Incrementing by one gives 4321 + 1 = 4322.\n",
    "Thus, the result should be [4,3,2,2].\n",
    "</pre>\n",
    "\n",
    "<p><strong class=\"example\">Example 3:</strong></p>\n",
    "\n",
    "<pre><strong>Input:</strong> digits = [9]\n",
    "<strong>Output:</strong> [1,0]\n",
    "<strong>Explanation:</strong> The array represents the integer 9.\n",
    "Incrementing by one gives 9 + 1 = 10.\n",
    "Thus, the result should be [1,0].\n",
    "</pre>\n",
    "\n",
    "<p>&nbsp;</p>\n",
    "<p><strong>Constraints:</strong></p>\n",
    "\n",
    "<ul>\n",
    "\t<li><code>1 &lt;= digits.length &lt;= 100</code></li>\n",
    "\t<li><code>0 &lt;= digits[i] &lt;= 9</code></li>\n",
    "\t<li><code>digits</code> does not contain any leading <code>0</code>'s.</li>\n",
    "</ul>\n",
    "</div>"
   ]
  },
  {
   "cell_type": "code",
   "execution_count": 8,
   "id": "a85af36d-abe5-481b-82f0-c36d68f26701",
   "metadata": {},
   "outputs": [
    {
     "data": {
      "text/plain": [
       "[4, 1, 2, 1, 3]"
      ]
     },
     "execution_count": 8,
     "metadata": {},
     "output_type": "execute_result"
    }
   ],
   "source": [
    "class Solution:\n",
    "    def plusOne(self, digits: list[int]) -> list[int]:\n",
    "        digits = list(map(str, digits))\n",
    "        digits = str(int(\"\".join(digits)) + 1)\n",
    "        digits = list(map(int, digits))\n",
    "        return list(digits)\n",
    "    \n",
    "\n",
    "sol = Solution()\n",
    "nums = [4,1,2,1,2]\n",
    "sol.plusOne(nums)"
   ]
  },
  {
   "cell_type": "code",
   "execution_count": null,
   "id": "d070b690-5309-448c-907c-d58a1ffa813a",
   "metadata": {},
   "outputs": [],
   "source": []
  }
 ],
 "metadata": {
  "kernelspec": {
   "display_name": "Python 3 (ipykernel)",
   "language": "python",
   "name": "python3"
  },
  "language_info": {
   "codemirror_mode": {
    "name": "ipython",
    "version": 3
   },
   "file_extension": ".py",
   "mimetype": "text/x-python",
   "name": "python",
   "nbconvert_exporter": "python",
   "pygments_lexer": "ipython3",
   "version": "3.9.13"
  }
 },
 "nbformat": 4,
 "nbformat_minor": 5
}
