{
 "cells": [
  {
   "cell_type": "markdown",
   "id": "568e0b40-6b99-479a-986e-2a515a273fc0",
   "metadata": {},
   "source": [
    "<div class=\"_1l1MA\"><p>Given two strings <code>s</code> and <code>t</code>, return <code>true</code> <em>if</em> <code>t</code> <em>is an anagram of</em> <code>s</code><em>, and</em> <code>false</code> <em>otherwise</em>.</p>\n",
    "\n",
    "<p>An <strong>Anagram</strong> is a word or phrase formed by rearranging the letters of a different word or phrase, typically using all the original letters exactly once.</p>\n",
    "\n",
    "<p>&nbsp;</p>\n",
    "<p><strong class=\"example\">Example 1:</strong></p>\n",
    "<pre><strong>Input:</strong> s = \"anagram\", t = \"nagaram\"\n",
    "<strong>Output:</strong> true\n",
    "</pre><p><strong class=\"example\">Example 2:</strong></p>\n",
    "<pre><strong>Input:</strong> s = \"rat\", t = \"car\"\n",
    "<strong>Output:</strong> false\n",
    "</pre>\n",
    "<p>&nbsp;</p>\n",
    "<p><strong>Constraints:</strong></p>\n",
    "\n",
    "<ul>\n",
    "\t<li><code>1 &lt;= s.length, t.length &lt;= 5 * 10<sup>4</sup></code></li>\n",
    "\t<li><code>s</code> and <code>t</code> consist of lowercase English letters.</li>\n",
    "</ul>\n",
    "\n",
    "<p>&nbsp;</p>\n",
    "<p><strong>Follow up:</strong> What if the inputs contain Unicode characters? How would you adapt your solution to such a case?</p>\n",
    "</div>"
   ]
  },
  {
   "cell_type": "code",
   "execution_count": 10,
   "id": "2663f1ca-1fc3-4523-84bc-aa9e242dae44",
   "metadata": {},
   "outputs": [
    {
     "data": {
      "text/plain": [
       "False"
      ]
     },
     "execution_count": 10,
     "metadata": {},
     "output_type": "execute_result"
    }
   ],
   "source": [
    "class Solution:\n",
    "    def isAnagram(self, s: str, t: str) -> bool:\n",
    "        return sorted(s)==sorted(t)\n",
    "    \n",
    "    def isAnagram2(self, s: str, t: str) -> bool:\n",
    "        dct1 = {}\n",
    "        dct2 = {}\n",
    "        for i in s:\n",
    "            dct1[i] = dct1.get(i, 0) + 1\n",
    "        for i in t:\n",
    "            dct2[i] = dct2.get(i, 0) + 1\n",
    "        return dct1 == dct2\n",
    "    \n",
    "sol = Solution()\n",
    "s = \"anagram\"\n",
    "t = \"nagarm\"\n",
    "sol.isAnagram(s,t)"
   ]
  },
  {
   "cell_type": "code",
   "execution_count": 11,
   "id": "815a402a-aff6-4346-9385-2e11d6f7cf9b",
   "metadata": {},
   "outputs": [
    {
     "data": {
      "text/plain": [
       "False"
      ]
     },
     "execution_count": 11,
     "metadata": {},
     "output_type": "execute_result"
    }
   ],
   "source": [
    "sol.isAnagram2(s,t)"
   ]
  },
  {
   "cell_type": "code",
   "execution_count": null,
   "id": "e8827c5f-36c1-47e3-af23-bc1a9faf1859",
   "metadata": {},
   "outputs": [],
   "source": []
  }
 ],
 "metadata": {
  "kernelspec": {
   "display_name": "Python 3 (ipykernel)",
   "language": "python",
   "name": "python3"
  },
  "language_info": {
   "codemirror_mode": {
    "name": "ipython",
    "version": 3
   },
   "file_extension": ".py",
   "mimetype": "text/x-python",
   "name": "python",
   "nbconvert_exporter": "python",
   "pygments_lexer": "ipython3",
   "version": "3.9.13"
  }
 },
 "nbformat": 4,
 "nbformat_minor": 5
}
