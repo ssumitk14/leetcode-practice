{
 "cells": [
  {
   "cell_type": "markdown",
   "id": "30bce3e1-9fe1-4c98-9490-ab0e80d7f350",
   "metadata": {},
   "source": [
    "<p>Given an integer <code>numRows</code>, return the first numRows of <strong>Pascal's triangle</strong>.</p>"
   ]
  },
  {
   "cell_type": "markdown",
   "id": "85e90d79-f806-42ed-b153-9a4842e9ebca",
   "metadata": {},
   "source": [
    "<p>In <strong>Pascal's triangle</strong>, each number is the sum of the two numbers directly above it as shown:</p>"
   ]
  },
  {
   "cell_type": "markdown",
   "id": "84930289-f004-48e4-bfbd-e420918faf75",
   "metadata": {},
   "source": [
    "<img alt=\"\" src=\"https://upload.wikimedia.org/wikipedia/commons/0/0d/PascalTriangleAnimated2.gif\" style=\"height: 240px; width: 260px;\">"
   ]
  },
  {
   "cell_type": "markdown",
   "id": "9eca20ae-2092-4447-a203-251f7639ea27",
   "metadata": {},
   "source": [
    "<p><strong class=\"example\">Example 1:</strong></p>"
   ]
  },
  {
   "cell_type": "markdown",
   "id": "1f4d85e5-0b6b-400d-9f12-5c1c27dba95a",
   "metadata": {},
   "source": [
    "<pre><strong>Input:</strong> numRows = 5\n",
    "<strong>Output:</strong> [[1],[1,1],[1,2,1],[1,3,3,1],[1,4,6,4,1]]\n",
    "</pre>"
   ]
  },
  {
   "cell_type": "markdown",
   "id": "a1b2ad66-711f-4680-868d-674e53a08eb9",
   "metadata": {},
   "source": [
    "<p><strong class=\"example\">Example 2:</strong></p>"
   ]
  },
  {
   "cell_type": "markdown",
   "id": "e4470f65-247c-4256-a840-b78c4adb512b",
   "metadata": {},
   "source": [
    "<pre><strong>Input:</strong> numRows = 1\n",
    "<strong>Output:</strong> [[1]]\n",
    "</pre>"
   ]
  },
  {
   "cell_type": "markdown",
   "id": "e04bfbe5-059c-41e2-b03c-d71e6826c685",
   "metadata": {},
   "source": [
    "### SOlution 1 (My Solution)\n",
    "<p> This solution was accepted and was faster than 97% </p>"
   ]
  },
  {
   "cell_type": "code",
   "execution_count": 44,
   "id": "0904cd41-1a4c-4c78-9946-5a20d6e39cdb",
   "metadata": {},
   "outputs": [
    {
     "data": {
      "text/plain": [
       "[[1], [1, 1], [1, 2, 1], [1, 3, 3, 1], [1, 4, 6, 4, 1]]"
      ]
     },
     "execution_count": 44,
     "metadata": {},
     "output_type": "execute_result"
    }
   ],
   "source": [
    "class Solution:\n",
    "    def generate(self, numRows: int) -> list[list[int]]:\n",
    "        lst = [[1],[1,1]]\n",
    "        if numRows == 1:\n",
    "            return [[1]]\n",
    "        else:\n",
    "            for i in range(3, numRows+1):\n",
    "                temp = [1,1]\n",
    "                window = 1\n",
    "                start = 0\n",
    "                end = 0\n",
    "                for j in range(1,i-1):\n",
    "                    # print(i,j)\n",
    "                    end +=window\n",
    "                    # print(lst[-1][start:end])\n",
    "                    temp.insert(j,sum(lst[-1][start:end+1]))\n",
    "                    start +=window\n",
    "                lst.append(temp)\n",
    "        return lst\n",
    "    \n",
    "sol = Solution()\n",
    "sol.generate(5)"
   ]
  },
  {
   "cell_type": "code",
   "execution_count": null,
   "id": "e11a9f3a-5a8a-4528-9104-76830e46c625",
   "metadata": {},
   "outputs": [],
   "source": []
  },
  {
   "cell_type": "markdown",
   "id": "3e34894a-3398-4162-b55a-ed2f14ce498c",
   "metadata": {},
   "source": [
    "### SOlution 2\n"
   ]
  },
  {
   "cell_type": "code",
   "execution_count": 54,
   "id": "1a8f4059-7741-4cf4-99b7-5e7cff63391e",
   "metadata": {},
   "outputs": [
    {
     "data": {
      "text/plain": [
       "[[1], [1, 1], [1, 2, 1], [1, 3, 3, 1], [1, 4, 6, 4, 1]]"
      ]
     },
     "execution_count": 54,
     "metadata": {},
     "output_type": "execute_result"
    }
   ],
   "source": [
    "class Solution:\n",
    "    def generate(self, numRows: int) -> list[list[int]]:\n",
    "        lst = []\n",
    "        for i in range(numRows):\n",
    "            if i==0:\n",
    "                prev = [1]\n",
    "                lst.append(prev)\n",
    "            else:\n",
    "                j = 1\n",
    "                current = [1]\n",
    "                while i>j:\n",
    "                    current.append(prev[j] + prev[j-1])\n",
    "                    j +=1\n",
    "                current.append(1)\n",
    "                lst.append(current)\n",
    "                prev = current\n",
    "        return lst\n",
    "    \n",
    "sol = Solution()\n",
    "sol.generate(5)"
   ]
  },
  {
   "cell_type": "markdown",
   "id": "ea1a0071-1dfd-4c5f-89a7-e8b8c236b996",
   "metadata": {},
   "source": [
    "### Solution 3"
   ]
  },
  {
   "cell_type": "code",
   "execution_count": 92,
   "id": "1bf079f4-0bb1-47d4-a7cf-1d2e6f362e45",
   "metadata": {},
   "outputs": [
    {
     "data": {
      "text/plain": [
       "[[1],\n",
       " [1, 1],\n",
       " [1, 2, 1],\n",
       " [1, 3, 3, 1],\n",
       " [1, 4, 6, 4, 1],\n",
       " [1, 5, 10, 10, 5, 1],\n",
       " [1, 6, 15, 20, 15, 6, 1],\n",
       " [1, 7, 21, 35, 35, 21, 7, 1],\n",
       " [1, 8, 28, 56, 70, 56, 28, 8, 1],\n",
       " [1, 9, 36, 84, 126, 126, 84, 36, 9, 1]]"
      ]
     },
     "execution_count": 92,
     "metadata": {},
     "output_type": "execute_result"
    }
   ],
   "source": [
    "class Solution:\n",
    "    def generate(self, numRows: int) -> list[list[int]]:\n",
    "        if numRows ==1:\n",
    "            return [[1]]\n",
    "        else:\n",
    "            lst = [[1], [1,1]]\n",
    "            for i in range(2,numRows):\n",
    "                temp = [1]\n",
    "                for j in range(i-1):\n",
    "                    # print(lst[i-1][j]) #, lst[i-1][j+1])\n",
    "                    temp.append(lst[i-1][j] + lst[i-1][j+1])\n",
    "                temp.append(1)\n",
    "                lst.append(temp)\n",
    "        return lst\n",
    "    \n",
    "sol = Solution()\n",
    "sol.generate(10)"
   ]
  },
  {
   "cell_type": "code",
   "execution_count": null,
   "id": "0dcca079-23c3-45be-a016-1d31929d3300",
   "metadata": {},
   "outputs": [],
   "source": []
  }
 ],
 "metadata": {
  "kernelspec": {
   "display_name": "Python 3 (ipykernel)",
   "language": "python",
   "name": "python3"
  },
  "language_info": {
   "codemirror_mode": {
    "name": "ipython",
    "version": 3
   },
   "file_extension": ".py",
   "mimetype": "text/x-python",
   "name": "python",
   "nbconvert_exporter": "python",
   "pygments_lexer": "ipython3",
   "version": "3.9.13"
  }
 },
 "nbformat": 4,
 "nbformat_minor": 5
}
