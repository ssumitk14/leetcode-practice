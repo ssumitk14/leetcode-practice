{
 "cells": [
  {
   "cell_type": "markdown",
   "id": "50c3dfef-63f2-4ebe-8dae-db3b2a5e86ac",
   "metadata": {},
   "source": [
    "<div class=\"_1l1MA\" data-track-load=\"qd_description_content\"><p>Given an integer <code>n</code>, return <em><code>true</code> if it is a power of three. Otherwise, return <code>false</code></em>.</p>\n",
    "\n",
    "<p>An integer <code>n</code> is a power of three, if there exists an integer <code>x</code> such that <code>n == 3<sup>x</sup></code>.</p>\n",
    "\n",
    "<p>&nbsp;</p>\n",
    "<p><strong class=\"example\">Example 1:</strong></p>\n",
    "\n",
    "<pre><strong>Input:</strong> n = 27\n",
    "<strong>Output:</strong> true\n",
    "<strong>Explanation:</strong> 27 = 3<sup>3</sup>\n",
    "</pre>\n",
    "\n",
    "<p><strong class=\"example\">Example 2:</strong></p>\n",
    "\n",
    "<pre><strong>Input:</strong> n = 0\n",
    "<strong>Output:</strong> false\n",
    "<strong>Explanation:</strong> There is no x where 3<sup>x</sup> = 0.\n",
    "</pre>\n",
    "\n",
    "<p><strong class=\"example\">Example 3:</strong></p>\n",
    "\n",
    "<pre><strong>Input:</strong> n = -1\n",
    "<strong>Output:</strong> false\n",
    "<strong>Explanation:</strong> There is no x where 3<sup>x</sup> = (-1).\n",
    "</pre>\n",
    "\n",
    "<p>&nbsp;</p>\n",
    "<p><strong>Constraints:</strong></p>\n",
    "\n",
    "<ul>\n",
    "\t<li><code>-2<sup>31</sup> &lt;= n &lt;= 2<sup>31</sup> - 1</code></li>\n",
    "</ul>\n",
    "\n",
    "<p>&nbsp;</p>\n",
    "<strong>Follow up:</strong> Could you solve it without loops/recursion?</div>"
   ]
  },
  {
   "cell_type": "code",
   "execution_count": 5,
   "id": "051b4339-1a66-4326-90f5-1a800f3c2fef",
   "metadata": {},
   "outputs": [
    {
     "data": {
      "text/plain": [
       "True"
      ]
     },
     "execution_count": 5,
     "metadata": {},
     "output_type": "execute_result"
    }
   ],
   "source": [
    "class Solution:\n",
    "    def isPowerOfThree(self, n: int) -> bool:\n",
    "        if n<=0:\n",
    "            return False\n",
    "        while n % 3 == 0:\n",
    "            n = int(n/3)\n",
    "        return n == 1\n",
    "    \n",
    "sol = Solution()\n",
    "sol.isPowerOfThree(27)\n",
    "# n = 1\n",
    "# "
   ]
  },
  {
   "cell_type": "code",
   "execution_count": 27,
   "id": "025a3000-001d-4769-a708-d0d8b318842e",
   "metadata": {},
   "outputs": [
    {
     "data": {
      "text/plain": [
       "False"
      ]
     },
     "execution_count": 27,
     "metadata": {},
     "output_type": "execute_result"
    }
   ],
   "source": [
    "import math\n",
    "\n",
    "class Solution1:\n",
    "    def isPowerOfThree(self, n: int) -> bool:\n",
    "        if n<=0:\n",
    "            return False\n",
    "        result = round(math.log(n))\n",
    "    \n",
    "sol = Solution()\n",
    "sol.isPowerOfThree(27)"
   ]
  },
  {
   "cell_type": "code",
   "execution_count": 4,
   "id": "c87005a8-c45e-4453-85a2-d717f17db7fc",
   "metadata": {},
   "outputs": [
    {
     "data": {
      "text/plain": [
       "-27"
      ]
     },
     "execution_count": 4,
     "metadata": {},
     "output_type": "execute_result"
    }
   ],
   "source": [
    "(-3)**3"
   ]
  },
  {
   "cell_type": "code",
   "execution_count": null,
   "id": "636b26e5-d0be-4f23-a3e1-7082af5f9e75",
   "metadata": {},
   "outputs": [],
   "source": []
  }
 ],
 "metadata": {
  "kernelspec": {
   "display_name": "Python 3 (ipykernel)",
   "language": "python",
   "name": "python3"
  },
  "language_info": {
   "codemirror_mode": {
    "name": "ipython",
    "version": 3
   },
   "file_extension": ".py",
   "mimetype": "text/x-python",
   "name": "python",
   "nbconvert_exporter": "python",
   "pygments_lexer": "ipython3",
   "version": "3.9.13"
  }
 },
 "nbformat": 4,
 "nbformat_minor": 5
}
