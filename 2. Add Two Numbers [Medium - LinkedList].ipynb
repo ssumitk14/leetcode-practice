{
 "cells": [
  {
   "cell_type": "markdown",
   "id": "0ef06743-3779-48bf-96ba-a75599ba4647",
   "metadata": {},
   "source": [
    "<div class=\"px-5 pt-4\"><div class=\"_1l1MA\" data-track-load=\"qd_description_content\"><p>You are given two <strong>non-empty</strong> linked lists representing two non-negative integers. The digits are stored in <strong>reverse order</strong>, and each of their nodes contains a single digit. Add the two numbers and return the sum&nbsp;as a linked list.</p>\n",
    "\n",
    "<p>You may assume the two numbers do not contain any leading zero, except the number 0 itself.</p>\n",
    "\n",
    "<p>&nbsp;</p>\n",
    "<p><strong class=\"example\">Example 1:</strong></p>\n",
    "<img alt=\"\" src=\"https://assets.leetcode.com/uploads/2020/10/02/addtwonumber1.jpg\" style=\"width: 483px; height: 342px;\">\n",
    "<pre><strong>Input:</strong> l1 = [2,4,3], l2 = [5,6,4]\n",
    "<strong>Output:</strong> [7,0,8]\n",
    "<strong>Explanation:</strong> 342 + 465 = 807.\n",
    "</pre>\n",
    "\n",
    "<p><strong class=\"example\">Example 2:</strong></p>\n",
    "\n",
    "<pre><strong>Input:</strong> l1 = [0], l2 = [0]\n",
    "<strong>Output:</strong> [0]\n",
    "</pre>\n",
    "\n",
    "<p><strong class=\"example\">Example 3:</strong></p>\n",
    "\n",
    "<pre><strong>Input:</strong> l1 = [9,9,9,9,9,9,9], l2 = [9,9,9,9]\n",
    "<strong>Output:</strong> [8,9,9,9,0,0,0,1]\n",
    "</pre>\n",
    "\n",
    "<p>&nbsp;</p>\n",
    "<p><strong>Constraints:</strong></p>\n",
    "\n",
    "<ul>\n",
    "\t<li>The number of nodes in each linked list is in the range <code>[1, 100]</code>.</li>\n",
    "\t<li><code>0 &lt;= Node.val &lt;= 9</code></li>\n",
    "\t<li>It is guaranteed that the list represents a number that does not have leading zeros.</li>\n",
    "</ul>\n",
    "</div></div>"
   ]
  },
  {
   "cell_type": "code",
   "execution_count": null,
   "id": "32c93305-dd41-4a82-a42f-ac82f14bb677",
   "metadata": {},
   "outputs": [],
   "source": [
    "### This solution is complete and will pass all the test cases\n",
    "## This solution may not be the best solution"
   ]
  },
  {
   "cell_type": "code",
   "execution_count": 23,
   "id": "671ce73d-dce8-4420-9be5-491e83121301",
   "metadata": {},
   "outputs": [],
   "source": [
    "# Definition for singly-linked list.\n",
    "class ListNode:\n",
    "    def __init__(self, val=0, next=None):\n",
    "        self.val = val\n",
    "        self.next = next\n",
    "\n",
    "\n",
    "class Solution:\n",
    "    def addTwoNumbers(self, l1: ListNode, l2: ListNode) -> [ListNode]:\n",
    "        lst1 ,lst2 = [], []\n",
    "        while l1:\n",
    "            lst1.append(l1.val)\n",
    "            l1 = l1.next\n",
    "        while l2:\n",
    "            lst2.append(l2.val)\n",
    "            l2 = l2.next\n",
    "        a  = int(\"\".join(list(map(str, lst1))[::-1]))\n",
    "        b  = int(\"\".join(list(map(str, lst2))[::-1]))\n",
    "        result = list(map(int, list(str(a+b)[::-1])))\n",
    "        \n",
    "        if result:\n",
    "            head = tail = ListNode(result[0])\n",
    "            for i in result[1:]:\n",
    "                tail.next = ListNode(i)\n",
    "                tail = tail.next\n",
    "\n",
    "            return head\n",
    "       "
   ]
  },
  {
   "cell_type": "code",
   "execution_count": 32,
   "id": "d1cfe362-da46-45e7-8ffe-14add52922d6",
   "metadata": {},
   "outputs": [],
   "source": [
    "# Utility function for testing\n",
    "def convert_list_to_listnode(lst):\n",
    "    if lst:\n",
    "        head = tail = ListNode(lst[0])\n",
    "        for i in lst[1:]:\n",
    "            tail.next = ListNode(i)\n",
    "            tail = tail.next\n",
    "    else:\n",
    "        return None\n",
    "\n",
    "    return head \n",
    "\n",
    "def linked_list_to_python_list(ll):\n",
    "    lst = []\n",
    "    while ll:\n",
    "        lst.append(ll.val)\n",
    "        ll = ll.next\n",
    "    return lst"
   ]
  },
  {
   "cell_type": "code",
   "execution_count": 33,
   "id": "4dcc6831-441e-422a-9644-ba80b818258c",
   "metadata": {},
   "outputs": [
    {
     "data": {
      "text/plain": [
       "[7, 0, 4, 0, 1]"
      ]
     },
     "execution_count": 33,
     "metadata": {},
     "output_type": "execute_result"
    }
   ],
   "source": [
    "l1 = [2,4,9]\n",
    "l1 = convert_list_to_listnode(l1)\n",
    "l2 = [5,6,4,9]\n",
    "l2 = convert_list_to_listnode(l2)\n",
    "\n",
    "sol = Solution()\n",
    "result = sol.addTwoNumbers(l1, l2)\n",
    "linked_list_to_python_list(result)"
   ]
  },
  {
   "cell_type": "markdown",
   "id": "553641f1-a52a-4fb0-bbd2-3955cc06d2fd",
   "metadata": {},
   "source": [
    "### Alternate Solution"
   ]
  },
  {
   "cell_type": "code",
   "execution_count": 42,
   "id": "c4a1e836-47de-4d50-924b-75567dfac030",
   "metadata": {},
   "outputs": [],
   "source": [
    "# Definition for singly-linked list.\n",
    "class ListNode:\n",
    "    def __init__(self, val=0, next=None):\n",
    "        self.val = val\n",
    "        self.next = next\n",
    "\n",
    "\n",
    "class Solution:\n",
    "    def addTwoNumbers(self, l1: ListNode, l2: ListNode) -> [ListNode]:\n",
    "        current = head = ListNode()\n",
    "        \n",
    "        carry = 0\n",
    "        while l1 or l2 or carry:\n",
    "            if l1:\n",
    "                carry += l1.val\n",
    "                l1 = l1.next\n",
    "            if l2:\n",
    "                carry += l2.val\n",
    "                l2 = l2.next\n",
    "            current.next = ListNode(carry%10)\n",
    "            current = current.next\n",
    "            \n",
    "            carry = carry //10\n",
    "        return head.next"
   ]
  },
  {
   "cell_type": "code",
   "execution_count": 43,
   "id": "2b9cf541-66c7-4b61-81e8-2e58e43211a8",
   "metadata": {},
   "outputs": [
    {
     "data": {
      "text/plain": [
       "[7, 0, 4, 0, 1]"
      ]
     },
     "execution_count": 43,
     "metadata": {},
     "output_type": "execute_result"
    }
   ],
   "source": [
    "l1 = [2,4,9]\n",
    "l1 = convert_list_to_listnode(l1)\n",
    "l2 = [5,6,4,9]\n",
    "l2 = convert_list_to_listnode(l2)\n",
    "\n",
    "sol = Solution()\n",
    "result = sol.addTwoNumbers(l1, l2)\n",
    "linked_list_to_python_list(result)"
   ]
  },
  {
   "cell_type": "code",
   "execution_count": null,
   "id": "8915d707-8df3-481c-be42-e5a15083f6f2",
   "metadata": {},
   "outputs": [],
   "source": []
  }
 ],
 "metadata": {
  "kernelspec": {
   "display_name": "Python 3 (ipykernel)",
   "language": "python",
   "name": "python3"
  },
  "language_info": {
   "codemirror_mode": {
    "name": "ipython",
    "version": 3
   },
   "file_extension": ".py",
   "mimetype": "text/x-python",
   "name": "python",
   "nbconvert_exporter": "python",
   "pygments_lexer": "ipython3",
   "version": "3.9.13"
  }
 },
 "nbformat": 4,
 "nbformat_minor": 5
}
