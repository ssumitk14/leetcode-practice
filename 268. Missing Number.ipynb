{
 "cells": [
  {
   "cell_type": "markdown",
   "id": "ae683c9c-d3cc-4fbc-b922-ffdd7f7a8fd2",
   "metadata": {},
   "source": [
    "<div class=\"_1l1MA\"><p>Given an array <code>nums</code> containing <code>n</code> distinct numbers in the range <code>[0, n]</code>, return <em>the only number in the range that is missing from the array.</em></p>\n",
    "\n",
    "<p>&nbsp;</p>\n",
    "<p><strong class=\"example\">Example 1:</strong></p>\n",
    "\n",
    "<pre><strong>Input:</strong> nums = [3,0,1]\n",
    "<strong>Output:</strong> 2\n",
    "<strong>Explanation:</strong> n = 3 since there are 3 numbers, so all numbers are in the range [0,3]. 2 is the missing number in the range since it does not appear in nums.\n",
    "</pre>\n",
    "\n",
    "<p><strong class=\"example\">Example 2:</strong></p>\n",
    "\n",
    "<pre><strong>Input:</strong> nums = [0,1]\n",
    "<strong>Output:</strong> 2\n",
    "<strong>Explanation:</strong> n = 2 since there are 2 numbers, so all numbers are in the range [0,2]. 2 is the missing number in the range since it does not appear in nums.\n",
    "</pre>\n",
    "\n",
    "<p><strong class=\"example\">Example 3:</strong></p>\n",
    "\n",
    "<pre><strong>Input:</strong> nums = [9,6,4,2,3,5,7,0,1]\n",
    "<strong>Output:</strong> 8\n",
    "<strong>Explanation:</strong> n = 9 since there are 9 numbers, so all numbers are in the range [0,9]. 8 is the missing number in the range since it does not appear in nums.\n",
    "</pre>\n",
    "\n",
    "<p>&nbsp;</p>\n",
    "<p><strong>Constraints:</strong></p>\n",
    "\n",
    "<ul>\n",
    "\t<li><code>n == nums.length</code></li>\n",
    "\t<li><code>1 &lt;= n &lt;= 10<sup>4</sup></code></li>\n",
    "\t<li><code>0 &lt;= nums[i] &lt;= n</code></li>\n",
    "\t<li>All the numbers of <code>nums</code> are <strong>unique</strong>.</li>\n",
    "</ul>\n",
    "\n",
    "<p>&nbsp;</p>\n",
    "<p><strong>Follow up:</strong> Could you implement a solution using only <code>O(1)</code> extra space complexity and <code>O(n)</code> runtime complexity?</p>\n",
    "</div>"
   ]
  },
  {
   "cell_type": "markdown",
   "id": "3b37074d-d255-4303-9d06-4b5f44c40ae1",
   "metadata": {},
   "source": [
    "### SOlution -1 (Not efficient solution)"
   ]
  },
  {
   "cell_type": "code",
   "execution_count": 4,
   "id": "a1b13de6-ea23-4f7e-bcf9-9c7e6f3bb916",
   "metadata": {},
   "outputs": [
    {
     "data": {
      "text/plain": [
       "8"
      ]
     },
     "execution_count": 4,
     "metadata": {},
     "output_type": "execute_result"
    }
   ],
   "source": [
    "class Solution:\n",
    "    def missingNumber(self, nums: list[int]) -> int:\n",
    "        length = len(nums)\n",
    "        if length not in nums:\n",
    "            return length\n",
    "        for i in range(length):\n",
    "            if i not in nums:\n",
    "                return i\n",
    "            \n",
    "sol = Solution()\n",
    "nums = [9,6,4,2,3,5,7,0,1]\n",
    "sol.missingNumber(nums)"
   ]
  },
  {
   "cell_type": "markdown",
   "id": "caac96fc-22a4-45f9-9721-2524d6c08267",
   "metadata": {},
   "source": [
    "### Solution -2 (Using Sum of first N elements)"
   ]
  },
  {
   "cell_type": "code",
   "execution_count": 5,
   "id": "1a02eff0-32ed-4def-af6f-e4046623e42e",
   "metadata": {},
   "outputs": [
    {
     "data": {
      "text/plain": [
       "8"
      ]
     },
     "execution_count": 5,
     "metadata": {},
     "output_type": "execute_result"
    }
   ],
   "source": [
    "class Solution:\n",
    "    def missingNumber(self, nums: list[int]) -> int:\n",
    "        total = len(nums) * (len(nums)+1)/2\n",
    "        return int(total-sum(nums))\n",
    "            \n",
    "sol = Solution()\n",
    "nums = [9,6,4,2,3,5,7,0,1]\n",
    "sol.missingNumber(nums)"
   ]
  },
  {
   "cell_type": "code",
   "execution_count": 3,
   "id": "16220aec-4edf-4b76-898f-bd466f5c4d94",
   "metadata": {},
   "outputs": [
    {
     "data": {
      "text/plain": [
       "15.0"
      ]
     },
     "execution_count": 3,
     "metadata": {},
     "output_type": "execute_result"
    }
   ],
   "source": []
  },
  {
   "cell_type": "code",
   "execution_count": null,
   "id": "aa3d1cca-a889-4b3c-b33e-16bfe28ebcac",
   "metadata": {},
   "outputs": [],
   "source": []
  }
 ],
 "metadata": {
  "kernelspec": {
   "display_name": "Python 3 (ipykernel)",
   "language": "python",
   "name": "python3"
  },
  "language_info": {
   "codemirror_mode": {
    "name": "ipython",
    "version": 3
   },
   "file_extension": ".py",
   "mimetype": "text/x-python",
   "name": "python",
   "nbconvert_exporter": "python",
   "pygments_lexer": "ipython3",
   "version": "3.9.13"
  }
 },
 "nbformat": 4,
 "nbformat_minor": 5
}
