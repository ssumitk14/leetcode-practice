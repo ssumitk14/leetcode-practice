{
 "cells": [
  {
   "cell_type": "markdown",
   "id": "485eb7d4-e6ba-4f9c-826a-8f6653a81c87",
   "metadata": {},
   "source": [
    "<p>Given a <strong>non-empty</strong>&nbsp;array of integers <code>nums</code>, every element appears <em>twice</em> except for one. Find that single one.</p>\n",
    "\n",
    "<p>You must&nbsp;implement a solution with a linear runtime complexity and use&nbsp;only constant&nbsp;extra space.</p>\n",
    "\n",
    "<pre><strong>Input:</strong> nums = [2,2,1]\n",
    "<strong>Output:</strong> 1\n",
    "</pre>\n",
    "\n",
    "<pre><strong>Input:</strong> nums = [4,1,2,1,2]\n",
    "<strong>Output:</strong> 4\n",
    "\n",
    "</pre>"
   ]
  },
  {
   "cell_type": "markdown",
   "id": "fe5eafe9-7335-492e-9bd3-dd375c16809c",
   "metadata": {},
   "source": [
    "#### This code has time limit problem\n",
    "<p> Time Limit Exceeded </p>"
   ]
  },
  {
   "cell_type": "code",
   "execution_count": 2,
   "id": "20bc4ac9-28f4-4956-9882-b5966f888007",
   "metadata": {},
   "outputs": [
    {
     "data": {
      "text/plain": [
       "4"
      ]
     },
     "execution_count": 2,
     "metadata": {},
     "output_type": "execute_result"
    }
   ],
   "source": [
    "class Solution:\n",
    "    def singleNumber(self, nums: list[int]) -> int:\n",
    "        for i in nums:\n",
    "            if nums.count(i) == 1:\n",
    "                return i\n",
    "            \n",
    "sol = Solution()\n",
    "nums = [4,1,2,1,2]\n",
    "sol.singleNumber(nums)"
   ]
  },
  {
   "cell_type": "markdown",
   "id": "2b002388-e30d-40a4-a150-92954fb27f4b",
   "metadata": {
    "tags": []
   },
   "source": [
    "<p> If we take XOR of zero and some bit, it will return that bit <br>\n",
    "- a XOR 0 = a, a XOR 0=a <br>\n",
    "- If we take XOR of two same bits, it will return 0 <br>\n",
    "- a XOR a = 0 a XOR a=0 <br>\n",
    "- a XOR b XOR a = (a XOR a) XOR b = 0 XOR b = b  <br>\n",
    "- a⊕b⊕a=(a⊕a)⊕b=0⊕b=b <br>\n",
    "- So we can XOR all bits together to find the unique number. </p>"
   ]
  },
  {
   "cell_type": "code",
   "execution_count": 8,
   "id": "94a5d7a8-51ba-4842-8b35-52ce17c03988",
   "metadata": {},
   "outputs": [
    {
     "name": "stdout",
     "output_type": "stream",
     "text": [
      "0 ^ 4 = 4\n",
      "value: 4 uniqueNumber: 4\n",
      "----------------------------------------------------------------------------------------------------\n",
      "4 ^ 1 = 5\n",
      "value: 1 uniqueNumber: 5\n",
      "----------------------------------------------------------------------------------------------------\n",
      "5 ^ 2 = 7\n",
      "value: 2 uniqueNumber: 7\n",
      "----------------------------------------------------------------------------------------------------\n",
      "7 ^ 1 = 6\n",
      "value: 1 uniqueNumber: 6\n",
      "----------------------------------------------------------------------------------------------------\n",
      "6 ^ 2 = 4\n",
      "value: 2 uniqueNumber: 4\n",
      "----------------------------------------------------------------------------------------------------\n"
     ]
    },
    {
     "data": {
      "text/plain": [
       "4"
      ]
     },
     "execution_count": 8,
     "metadata": {},
     "output_type": "execute_result"
    }
   ],
   "source": [
    "class Solution:\n",
    "    def singleNumber(self, nums: list[int]) -> int:\n",
    "        uniqueNumber = 0\n",
    "        for i in nums:\n",
    "            print(\"{} ^ {} = {}\".format(uniqueNumber,i, uniqueNumber ^ i))\n",
    "            \n",
    "            uniqueNumber = uniqueNumber ^ i\n",
    "            print(\"value: {} uniqueNumber: {}\".format(i, uniqueNumber))\n",
    "            print(\"-\"*100)\n",
    "        return uniqueNumber\n",
    "            \n",
    "sol = Solution()\n",
    "nums = [4,1,2,1,2]\n",
    "sol.singleNumber(nums)"
   ]
  }
 ],
 "metadata": {
  "kernelspec": {
   "display_name": "Python 3 (ipykernel)",
   "language": "python",
   "name": "python3"
  },
  "language_info": {
   "codemirror_mode": {
    "name": "ipython",
    "version": 3
   },
   "file_extension": ".py",
   "mimetype": "text/x-python",
   "name": "python",
   "nbconvert_exporter": "python",
   "pygments_lexer": "ipython3",
   "version": "3.9.13"
  }
 },
 "nbformat": 4,
 "nbformat_minor": 5
}
