{
 "cells": [
  {
   "cell_type": "markdown",
   "id": "cf3882fd-dac6-4929-8c7d-fe876baf3ab9",
   "metadata": {},
   "source": [
    "<div class=\"px-5 pt-4\"><div class=\"_1l1MA\"><p>Given an array <code>nums</code> of size <code>n</code>, return <em>the majority element</em>.</p>\n",
    "\n",
    "<p>The majority element is the element that appears more than <code>⌊n / 2⌋</code> times. You may assume that the majority element always exists in the array.</p>\n",
    "\n",
    "<p>&nbsp;</p>\n",
    "<p><strong class=\"example\">Example 1:</strong></p>\n",
    "<pre><strong>Input:</strong> nums = [3,2,3]\n",
    "<strong>Output:</strong> 3\n",
    "</pre><p><strong class=\"example\">Example 2:</strong></p>\n",
    "<pre><strong>Input:</strong> nums = [2,2,1,1,1,2,2]\n",
    "<strong>Output:</strong> 2\n",
    "</pre>\n",
    "<p>&nbsp;</p>\n",
    "<p><strong>Constraints:</strong></p>\n",
    "\n",
    "<ul>\n",
    "\t<li><code>n == nums.length</code></li>\n",
    "\t<li><code>1 &lt;= n &lt;= 5 * 10<sup>4</sup></code></li>\n",
    "\t<li><code>-10<sup>9</sup> &lt;= nums[i] &lt;= 10<sup>9</sup></code></li>\n",
    "</ul>\n",
    "\n",
    "<p>&nbsp;</p>\n",
    "<strong>Follow-up:</strong> Could you solve the problem in linear time and in <code>O(1)</code> space?</div></div>"
   ]
  },
  {
   "cell_type": "markdown",
   "id": "3b5d8ef0-6073-473f-8066-d43a8f5dfc2e",
   "metadata": {},
   "source": [
    "### Solution -1"
   ]
  },
  {
   "cell_type": "code",
   "execution_count": 5,
   "id": "17292ae5-57f8-4662-a7f7-00dbb2f4f771",
   "metadata": {},
   "outputs": [
    {
     "data": {
      "text/plain": [
       "2"
      ]
     },
     "execution_count": 5,
     "metadata": {},
     "output_type": "execute_result"
    }
   ],
   "source": [
    "class Solution:\n",
    "    def majorityElement(self, nums: list[int]) -> int:\n",
    "        for i in set(nums):\n",
    "            if nums.count(i) > int(len(nums)/2):\n",
    "                return i\n",
    "            \n",
    "sol = Solution()\n",
    "nums = [2,2,1,1,1,2,2]\n",
    "sol.majorityElement(nums)"
   ]
  },
  {
   "cell_type": "markdown",
   "id": "562663c9-e942-4186-a49f-7b6b259c6ded",
   "metadata": {},
   "source": [
    "### Solution - 2 (Using Moore’s Voting Algorithm):"
   ]
  },
  {
   "cell_type": "code",
   "execution_count": 7,
   "id": "81240535-f7f0-4771-94b8-c0e459073fd5",
   "metadata": {},
   "outputs": [
    {
     "data": {
      "text/plain": [
       "2"
      ]
     },
     "execution_count": 7,
     "metadata": {},
     "output_type": "execute_result"
    }
   ],
   "source": [
    "class Solution(object):\n",
    "    def majorityElement(self, nums):\n",
    "        cnt = 0\n",
    "        for i in nums:\n",
    "            if cnt ==0:\n",
    "                sol = i\n",
    "            cnt += (1 if nums[i]==sol else -1)\n",
    "        return sol\n",
    "            \n",
    "    \n",
    "sol = Solution()\n",
    "nums = [2,2,1,1,1,2,2]\n",
    "sol.majorityElement(nums)"
   ]
  },
  {
   "cell_type": "code",
   "execution_count": null,
   "id": "24d47b55-210c-4026-b834-3421a124cb0f",
   "metadata": {},
   "outputs": [],
   "source": []
  }
 ],
 "metadata": {
  "kernelspec": {
   "display_name": "Python 3 (ipykernel)",
   "language": "python",
   "name": "python3"
  },
  "language_info": {
   "codemirror_mode": {
    "name": "ipython",
    "version": 3
   },
   "file_extension": ".py",
   "mimetype": "text/x-python",
   "name": "python",
   "nbconvert_exporter": "python",
   "pygments_lexer": "ipython3",
   "version": "3.9.13"
  }
 },
 "nbformat": 4,
 "nbformat_minor": 5
}
