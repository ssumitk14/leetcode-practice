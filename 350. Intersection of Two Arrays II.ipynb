{
 "cells": [
  {
   "cell_type": "markdown",
   "id": "27caad8c-bbb9-4049-ae0a-76f5218489cc",
   "metadata": {},
   "source": [
    "<div class=\"px-5 pt-4\"><div class=\"_1l1MA\"><p>Given two integer arrays <code>nums1</code> and <code>nums2</code>, return <em>an array of their intersection</em>. Each element in the result must appear as many times as it shows in both arrays and you may return the result in <strong>any order</strong>.</p>\n",
    "\n",
    "<p>&nbsp;</p>\n",
    "<p><strong class=\"example\">Example 1:</strong></p>\n",
    "\n",
    "<pre><strong>Input:</strong> nums1 = [1,2,2,1], nums2 = [2,2]\n",
    "<strong>Output:</strong> [2,2]\n",
    "</pre>\n",
    "\n",
    "<p><strong class=\"example\">Example 2:</strong></p>\n",
    "\n",
    "<pre><strong>Input:</strong> nums1 = [4,9,5], nums2 = [9,4,9,8,4]\n",
    "<strong>Output:</strong> [4,9]\n",
    "<strong>Explanation:</strong> [9,4] is also accepted.\n",
    "</pre>\n",
    "\n",
    "<p>&nbsp;</p>\n",
    "<p><strong>Constraints:</strong></p>\n",
    "\n",
    "<ul>\n",
    "\t<li><code>1 &lt;= nums1.length, nums2.length &lt;= 1000</code></li>\n",
    "\t<li><code>0 &lt;= nums1[i], nums2[i] &lt;= 1000</code></li>\n",
    "</ul>\n",
    "\n",
    "<p>&nbsp;</p>\n",
    "<p><strong>Follow up:</strong></p>\n",
    "\n",
    "<ul>\n",
    "\t<li>What if the given array is already sorted? How would you optimize your algorithm?</li>\n",
    "\t<li>What if <code>nums1</code>'s size is small compared to <code>nums2</code>'s size? Which algorithm is better?</li>\n",
    "\t<li>What if elements of <code>nums2</code> are stored on disk, and the memory is limited such that you cannot load all elements into the memory at once?</li>\n",
    "</ul>\n",
    "</div></div>"
   ]
  },
  {
   "cell_type": "markdown",
   "id": "7e1594cf-d4d6-4740-b898-ad25e6a67efc",
   "metadata": {},
   "source": [
    "### Solution -1"
   ]
  },
  {
   "cell_type": "code",
   "execution_count": 50,
   "id": "89b7fb83-4aae-405b-875a-74144d58f7a1",
   "metadata": {},
   "outputs": [
    {
     "data": {
      "text/plain": [
       "[2, 2]"
      ]
     },
     "execution_count": 50,
     "metadata": {},
     "output_type": "execute_result"
    }
   ],
   "source": [
    "from collections import Counter\n",
    "\n",
    "class Solution:\n",
    "    def intersect(self, nums1: list[int], nums2: list[int]) -> list[int]:\n",
    "        dct1 = Counter(nums1)\n",
    "        dct2 = Counter(nums2)\n",
    "\n",
    "        num = list(set(nums1)) if len(nums1)<=len(nums2) else list(set(nums2))\n",
    "        lst = []\n",
    "        for i in range(len(num)):\n",
    "            if (num[i] in dct1) and (num[i] in dct2):\n",
    "                if dct1[num[i]] == dct2[num[i]]:\n",
    "                    lst.extend([num[i]]*dct1[num[i]])\n",
    "                else:\n",
    "                    lst.extend([num[i]]*(min(dct1[num[i]], dct2[num[i]])))\n",
    "\n",
    "        return lst\n",
    "\n",
    "nums1 = [1,2,2,1]\n",
    "nums2 = [2,2] \n",
    "\n",
    "sol = Solution()\n",
    "sol.intersect(nums1, nums2)"
   ]
  },
  {
   "cell_type": "code",
   "execution_count": 48,
   "id": "2a133d21-11a5-41b9-8ea4-4fcc25a2e8fb",
   "metadata": {},
   "outputs": [
    {
     "name": "stdout",
     "output_type": "stream",
     "text": [
      "List 1:  [4, 9, 5]\n",
      "List 2:  [9, 4, 9, 8, 4]\n",
      "Intersection:  [9, 4]\n",
      "----------------------------------------------------------------------------------------------------\n",
      "List 1:  [3, 1, 2]\n",
      "List 2:  [1, 1]\n",
      "Intersection:  [1]\n",
      "----------------------------------------------------------------------------------------------------\n",
      "List 1:  [4, 7, 9, 7, 6, 7]\n",
      "List 2:  [5, 0, 0, 6, 1, 6, 2, 2, 4]\n",
      "Intersection:  [4, 6]\n",
      "----------------------------------------------------------------------------------------------------\n"
     ]
    }
   ],
   "source": [
    "nums1 = [4,9,5]\n",
    "nums2 = [9,4,9,8,4]\n",
    "print(\"List 1: \", nums1)\n",
    "print(\"List 2: \", nums2)\n",
    "print(\"Intersection: \",sol.intersect(nums1, nums2))\n",
    "print(\"-\"*100)\n",
    "nums1 = [3,1,2]\n",
    "nums2 = [1,1]\n",
    "print(\"List 1: \", nums1)\n",
    "print(\"List 2: \", nums2)\n",
    "print(\"Intersection: \",sol.intersect(nums1, nums2))\n",
    "print(\"-\"*100)\n",
    "nums1 = [4,7,9,7,6,7]\n",
    "nums2 = [5,0,0,6,1,6,2,2,4]\n",
    "\n",
    "print(\"List 1: \", nums1)\n",
    "print(\"List 2: \", nums2)\n",
    "print(\"Intersection: \",sol.intersect(nums1, nums2))\n",
    "print(\"-\"*100)"
   ]
  },
  {
   "cell_type": "markdown",
   "id": "9a9d4daf-5e6c-4aa1-a49e-396fee1f6c7c",
   "metadata": {},
   "source": [
    "### SOlution -2"
   ]
  },
  {
   "cell_type": "code",
   "execution_count": 51,
   "id": "146736d8-7878-4180-8fd7-e45e9e937f48",
   "metadata": {},
   "outputs": [
    {
     "data": {
      "text/plain": [
       "[2, 2]"
      ]
     },
     "execution_count": 51,
     "metadata": {},
     "output_type": "execute_result"
    }
   ],
   "source": [
    "from collections import Counter\n",
    "\n",
    "class Solution:\n",
    "    def intersect(self, nums1: list[int], nums2: list[int]) -> list[int]:\n",
    "        dct1 = Counter(nums1)\n",
    "        dct2 = Counter(nums2)\n",
    "\n",
    "        num = list(set(nums1)) if len(nums1)<=len(nums2) else list(set(nums2))\n",
    "        lst = []\n",
    "        for i in range(len(num)):\n",
    "            if (num[i] in dct1) and (num[i] in dct2):\n",
    "                lst.extend([num[i]]*(min(dct1[num[i]], dct2[num[i]])))\n",
    "\n",
    "        return lst\n",
    "\n",
    "nums1 = [1,2,2,1]\n",
    "nums2 = [2,2] \n",
    "\n",
    "sol = Solution()\n",
    "sol.intersect(nums1, nums2)"
   ]
  },
  {
   "cell_type": "code",
   "execution_count": 52,
   "id": "4d080ada-a51e-4e4b-a0eb-779a3552d618",
   "metadata": {},
   "outputs": [
    {
     "name": "stdout",
     "output_type": "stream",
     "text": [
      "List 1:  [4, 9, 5]\n",
      "List 2:  [9, 4, 9, 8, 4]\n",
      "Intersection:  [9, 4]\n",
      "----------------------------------------------------------------------------------------------------\n",
      "List 1:  [3, 1, 2]\n",
      "List 2:  [1, 1]\n",
      "Intersection:  [1]\n",
      "----------------------------------------------------------------------------------------------------\n",
      "List 1:  [4, 7, 9, 7, 6, 7]\n",
      "List 2:  [5, 0, 0, 6, 1, 6, 2, 2, 4]\n",
      "Intersection:  [4, 6]\n",
      "----------------------------------------------------------------------------------------------------\n"
     ]
    }
   ],
   "source": [
    "nums1 = [4,9,5]\n",
    "nums2 = [9,4,9,8,4]\n",
    "print(\"List 1: \", nums1)\n",
    "print(\"List 2: \", nums2)\n",
    "print(\"Intersection: \",sol.intersect(nums1, nums2))\n",
    "print(\"-\"*100)\n",
    "nums1 = [3,1,2]\n",
    "nums2 = [1,1]\n",
    "print(\"List 1: \", nums1)\n",
    "print(\"List 2: \", nums2)\n",
    "print(\"Intersection: \",sol.intersect(nums1, nums2))\n",
    "print(\"-\"*100)\n",
    "nums1 = [4,7,9,7,6,7]\n",
    "nums2 = [5,0,0,6,1,6,2,2,4]\n",
    "\n",
    "print(\"List 1: \", nums1)\n",
    "print(\"List 2: \", nums2)\n",
    "print(\"Intersection: \",sol.intersect(nums1, nums2))\n",
    "print(\"-\"*100)"
   ]
  },
  {
   "cell_type": "code",
   "execution_count": null,
   "id": "5c5012f4-8daf-40ed-935f-a2430d15eb70",
   "metadata": {},
   "outputs": [],
   "source": []
  }
 ],
 "metadata": {
  "kernelspec": {
   "display_name": "Python 3 (ipykernel)",
   "language": "python",
   "name": "python3"
  },
  "language_info": {
   "codemirror_mode": {
    "name": "ipython",
    "version": 3
   },
   "file_extension": ".py",
   "mimetype": "text/x-python",
   "name": "python",
   "nbconvert_exporter": "python",
   "pygments_lexer": "ipython3",
   "version": "3.9.13"
  }
 },
 "nbformat": 4,
 "nbformat_minor": 5
}
