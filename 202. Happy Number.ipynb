{
 "cells": [
  {
   "cell_type": "markdown",
   "id": "a228e287-b62d-493b-8477-592e084143f3",
   "metadata": {},
   "source": [
    "<div class=\"_1l1MA\"><p>Write an algorithm to determine if a number <code>n</code> is happy.</p>\n",
    "\n",
    "<p>A <strong>happy number</strong> is a number defined by the following process:</p>\n",
    "\n",
    "<ul>\n",
    "\t<li>Starting with any positive integer, replace the number by the sum of the squares of its digits.</li>\n",
    "\t<li>Repeat the process until the number equals 1 (where it will stay), or it <strong>loops endlessly in a cycle</strong> which does not include 1.</li>\n",
    "\t<li>Those numbers for which this process <strong>ends in 1</strong> are happy.</li>\n",
    "</ul>\n",
    "\n",
    "<p>Return <code>true</code> <em>if</em> <code>n</code> <em>is a happy number, and</em> <code>false</code> <em>if not</em>.</p>\n",
    "\n",
    "<p>&nbsp;</p>\n",
    "<p><strong class=\"example\">Example 1:</strong></p>\n",
    "\n",
    "<pre><strong>Input:</strong> n = 19\n",
    "<strong>Output:</strong> true\n",
    "<strong>Explanation:</strong>\n",
    "1<sup>2</sup> + 9<sup>2</sup> = 82\n",
    "8<sup>2</sup> + 2<sup>2</sup> = 68\n",
    "6<sup>2</sup> + 8<sup>2</sup> = 100\n",
    "1<sup>2</sup> + 0<sup>2</sup> + 0<sup>2</sup> = 1\n",
    "</pre>\n",
    "\n",
    "<p><strong class=\"example\">Example 2:</strong></p>\n",
    "\n",
    "<pre><strong>Input:</strong> n = 2\n",
    "<strong>Output:</strong> false\n",
    "</pre>\n",
    "\n",
    "<p>&nbsp;</p>\n",
    "<p><strong>Constraints:</strong></p>\n",
    "\n",
    "<ul>\n",
    "\t<li><code>1 &lt;= n &lt;= 2<sup>31</sup> - 1</code></li>\n",
    "</ul>\n",
    "</div>"
   ]
  },
  {
   "cell_type": "markdown",
   "id": "9c1ccf88-30f0-4848-8625-43ca5e0e2a7d",
   "metadata": {},
   "source": [
    "### Solution - 1 (Time limit exceeded) (This will run into infinite loop)"
   ]
  },
  {
   "cell_type": "code",
   "execution_count": 13,
   "id": "9eb25527-b7ef-4510-b26f-928ad02bd806",
   "metadata": {},
   "outputs": [
    {
     "ename": "KeyboardInterrupt",
     "evalue": "",
     "output_type": "error",
     "traceback": [
      "\u001b[1;31m---------------------------------------------------------------------------\u001b[0m",
      "\u001b[1;31mKeyboardInterrupt\u001b[0m                         Traceback (most recent call last)",
      "\u001b[1;32m~\\AppData\\Local\\Temp\\ipykernel_8904\\3953125795.py\u001b[0m in \u001b[0;36m<module>\u001b[1;34m\u001b[0m\n\u001b[0;32m     13\u001b[0m \u001b[0msol\u001b[0m \u001b[1;33m=\u001b[0m \u001b[0mSolution\u001b[0m\u001b[1;33m(\u001b[0m\u001b[1;33m)\u001b[0m\u001b[1;33m\u001b[0m\u001b[1;33m\u001b[0m\u001b[0m\n\u001b[0;32m     14\u001b[0m \u001b[0mn\u001b[0m \u001b[1;33m=\u001b[0m \u001b[1;36m4\u001b[0m\u001b[1;33m\u001b[0m\u001b[1;33m\u001b[0m\u001b[0m\n\u001b[1;32m---> 15\u001b[1;33m \u001b[0msol\u001b[0m\u001b[1;33m.\u001b[0m\u001b[0misHappy\u001b[0m\u001b[1;33m(\u001b[0m\u001b[0mn\u001b[0m\u001b[1;33m)\u001b[0m\u001b[1;33m\u001b[0m\u001b[1;33m\u001b[0m\u001b[0m\n\u001b[0m",
      "\u001b[1;32m~\\AppData\\Local\\Temp\\ipykernel_8904\\3953125795.py\u001b[0m in \u001b[0;36misHappy\u001b[1;34m(self, num)\u001b[0m\n\u001b[0;32m      8\u001b[0m                 \u001b[0mval\u001b[0m \u001b[1;33m=\u001b[0m \u001b[1;36m0\u001b[0m\u001b[1;33m\u001b[0m\u001b[1;33m\u001b[0m\u001b[0m\n\u001b[0;32m      9\u001b[0m                 \u001b[1;32mfor\u001b[0m \u001b[0mi\u001b[0m \u001b[1;32min\u001b[0m \u001b[0mstr\u001b[0m\u001b[1;33m(\u001b[0m\u001b[0mnum\u001b[0m\u001b[1;33m)\u001b[0m\u001b[1;33m:\u001b[0m\u001b[1;33m\u001b[0m\u001b[1;33m\u001b[0m\u001b[0m\n\u001b[1;32m---> 10\u001b[1;33m                     \u001b[0mval\u001b[0m \u001b[1;33m+=\u001b[0m \u001b[0mint\u001b[0m\u001b[1;33m(\u001b[0m\u001b[0mi\u001b[0m\u001b[1;33m)\u001b[0m\u001b[1;33m**\u001b[0m\u001b[1;36m2\u001b[0m\u001b[1;33m\u001b[0m\u001b[1;33m\u001b[0m\u001b[0m\n\u001b[0m\u001b[0;32m     11\u001b[0m                 \u001b[0mnum\u001b[0m \u001b[1;33m=\u001b[0m \u001b[0mval\u001b[0m\u001b[1;33m\u001b[0m\u001b[1;33m\u001b[0m\u001b[0m\n\u001b[0;32m     12\u001b[0m             \u001b[1;32mreturn\u001b[0m \u001b[1;32mTrue\u001b[0m\u001b[1;33m\u001b[0m\u001b[1;33m\u001b[0m\u001b[0m\n",
      "\u001b[1;31mKeyboardInterrupt\u001b[0m: "
     ]
    }
   ],
   "source": [
    "class Solution:\n",
    "    def isHappy(self, num: int) -> bool:\n",
    "        num = str(num)\n",
    "        if num == '1':\n",
    "            return True\n",
    "        else:\n",
    "            while num != 1:\n",
    "                val = 0\n",
    "                for i in str(num):\n",
    "                    val += int(i)**2\n",
    "                num = val\n",
    "            return True\n",
    "sol = Solution()\n",
    "n = 4\n",
    "sol.isHappy(n)"
   ]
  },
  {
   "cell_type": "markdown",
   "id": "f38d931e-8045-444a-ac73-d616c3a09bcd",
   "metadata": {},
   "source": [
    "### SOlution - 2 (Wikipedia: https://en.wikipedia.org/wiki/Happy_number)\n",
    "\n",
    "<p>For <span class=\"mwe-math-element\"><span class=\"mwe-math-mathml-inline mwe-math-mathml-a11y\" style=\"display: none;\"><math xmlns=\"http://www.w3.org/1998/Math/MathML\" alttext=\"{\\displaystyle b=10}\">\n",
    "  <semantics>\n",
    "    <mrow class=\"MJX-TeXAtom-ORD\">\n",
    "      <mstyle displaystyle=\"true\" scriptlevel=\"0\">\n",
    "        <mi>b</mi>\n",
    "        <mo>=</mo>\n",
    "        <mn>10</mn>\n",
    "      </mstyle>\n",
    "    </mrow>\n",
    "    <annotation encoding=\"application/x-tex\">{\\displaystyle b=10}</annotation>\n",
    "  </semantics>\n",
    "</math></span><img src=\"https://wikimedia.org/api/rest_v1/media/math/render/svg/c9f18909115d13fe45f000359b476549db54a104\" class=\"mwe-math-fallback-image-inline\" aria-hidden=\"true\" style=\"vertical-align: -0.338ex; width:6.421ex; height:2.176ex;\" alt=\"{\\displaystyle b=10}\"></span>, the only positive perfect digital invariant for <span class=\"mwe-math-element\"><span class=\"mwe-math-mathml-inline mwe-math-mathml-a11y\" style=\"display: none;\"><math xmlns=\"http://www.w3.org/1998/Math/MathML\" alttext=\"{\\displaystyle F_{2,b}}\">\n",
    "  <semantics>\n",
    "    <mrow class=\"MJX-TeXAtom-ORD\">\n",
    "      <mstyle displaystyle=\"true\" scriptlevel=\"0\">\n",
    "        <msub>\n",
    "          <mi>F</mi>\n",
    "          <mrow class=\"MJX-TeXAtom-ORD\">\n",
    "            <mn>2</mn>\n",
    "            <mo>,</mo>\n",
    "            <mi>b</mi>\n",
    "          </mrow>\n",
    "        </msub>\n",
    "      </mstyle>\n",
    "    </mrow>\n",
    "    <annotation encoding=\"application/x-tex\">{\\displaystyle F_{2,b}}</annotation>\n",
    "  </semantics>\n",
    "</math></span><img src=\"https://wikimedia.org/api/rest_v1/media/math/render/svg/4fe59b72357e852c746a5c6a7c5d634a64443038\" class=\"mwe-math-fallback-image-inline\" aria-hidden=\"true\" style=\"vertical-align: -1.005ex; width:3.712ex; height:2.843ex;\" alt=\"{\\displaystyle F_{2,b}}\"></span> is the trivial perfect digital invariant 1, and the only cycle is the eight-number cycle\n",
    "</p>\n",
    "\n",
    "<dl><dd>4 → 16 → 37 → 58 → 89 → 145 → 42 → 20 → 4 → ...</dd></dl>"
   ]
  },
  {
   "cell_type": "code",
   "execution_count": 14,
   "id": "3fde0e6f-3c18-4736-96d3-3c7eef7661c8",
   "metadata": {},
   "outputs": [
    {
     "data": {
      "text/plain": [
       "False"
      ]
     },
     "execution_count": 14,
     "metadata": {},
     "output_type": "execute_result"
    }
   ],
   "source": [
    "class Solution:\n",
    "    def isHappy(self, num: int) -> bool:\n",
    "        if num==1:\n",
    "            return True\n",
    "        for _ in range(8):\n",
    "            temp = 0\n",
    "            if num == 1:\n",
    "                return True\n",
    "            else:\n",
    "                for i in str(num):\n",
    "                    temp += int(i)**2\n",
    "                num = temp\n",
    "        return num==1\n",
    "\n",
    "sol = Solution()\n",
    "n = 4\n",
    "sol.isHappy(n)"
   ]
  },
  {
   "cell_type": "code",
   "execution_count": null,
   "id": "bfb56a1e-9f6d-4903-a3ae-995c642f23dd",
   "metadata": {},
   "outputs": [],
   "source": []
  }
 ],
 "metadata": {
  "kernelspec": {
   "display_name": "Python 3 (ipykernel)",
   "language": "python",
   "name": "python3"
  },
  "language_info": {
   "codemirror_mode": {
    "name": "ipython",
    "version": 3
   },
   "file_extension": ".py",
   "mimetype": "text/x-python",
   "name": "python",
   "nbconvert_exporter": "python",
   "pygments_lexer": "ipython3",
   "version": "3.9.13"
  }
 },
 "nbformat": 4,
 "nbformat_minor": 5
}
