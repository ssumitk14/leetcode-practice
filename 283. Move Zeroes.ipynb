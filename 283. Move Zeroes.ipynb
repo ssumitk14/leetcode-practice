{
 "cells": [
  {
   "cell_type": "markdown",
   "id": "3106a62b-aa40-4b77-9ac3-b003c391de5e",
   "metadata": {},
   "source": [
    "<div class=\"_1l1MA\"><p>Given an integer array <code>nums</code>, move all <code>0</code>'s to the end of it while maintaining the relative order of the non-zero elements.</p>\n",
    "\n",
    "<p><strong>Note</strong> that you must do this in-place without making a copy of the array.</p>\n",
    "\n",
    "<p>&nbsp;</p>\n",
    "<p><strong class=\"example\">Example 1:</strong></p>\n",
    "<pre><strong>Input:</strong> nums = [0,1,0,3,12]\n",
    "<strong>Output:</strong> [1,3,12,0,0]\n",
    "</pre><p><strong class=\"example\">Example 2:</strong></p>\n",
    "<pre><strong>Input:</strong> nums = [0]\n",
    "<strong>Output:</strong> [0]\n",
    "</pre>\n",
    "<p>&nbsp;</p>\n",
    "<p><strong>Constraints:</strong></p>\n",
    "\n",
    "<ul>\n",
    "\t<li><code>1 &lt;= nums.length &lt;= 10<sup>4</sup></code></li>\n",
    "\t<li><code>-2<sup>31</sup> &lt;= nums[i] &lt;= 2<sup>31</sup> - 1</code></li>\n",
    "</ul>\n",
    "\n",
    "<p>&nbsp;</p>\n",
    "<strong>Follow up:</strong> Could you minimize the total number of operations done?</div>"
   ]
  },
  {
   "cell_type": "code",
   "execution_count": 2,
   "id": "930af974-3318-4dad-9469-6c132e4e5a07",
   "metadata": {},
   "outputs": [
    {
     "data": {
      "text/plain": [
       "[1, 3, 12, 0, 0]"
      ]
     },
     "execution_count": 2,
     "metadata": {},
     "output_type": "execute_result"
    }
   ],
   "source": [
    "class Solution:\n",
    "    def moveZeroes(self, nums: list[int]) -> None:\n",
    "        \"\"\"\n",
    "        Do not return anything, modify nums in-place instead.\n",
    "        \"\"\"\n",
    "        for i in range(nums.count(0)):\n",
    "            nums.append(nums.pop(nums.index(0)))\n",
    "        return nums\n",
    "\n",
    "sol = Solution()\n",
    "lst = [0,1,0,3,12]\n",
    "sol.moveZeroes(lst)\n"
   ]
  },
  {
   "cell_type": "code",
   "execution_count": null,
   "id": "638cd419-690c-4199-98e1-e21813254171",
   "metadata": {},
   "outputs": [],
   "source": []
  }
 ],
 "metadata": {
  "kernelspec": {
   "display_name": "Python 3 (ipykernel)",
   "language": "python",
   "name": "python3"
  },
  "language_info": {
   "codemirror_mode": {
    "name": "ipython",
    "version": 3
   },
   "file_extension": ".py",
   "mimetype": "text/x-python",
   "name": "python",
   "nbconvert_exporter": "python",
   "pygments_lexer": "ipython3",
   "version": "3.9.13"
  }
 },
 "nbformat": 4,
 "nbformat_minor": 5
}
