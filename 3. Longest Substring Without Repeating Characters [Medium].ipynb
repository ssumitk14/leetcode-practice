{
 "cells": [
  {
   "cell_type": "markdown",
   "id": "6efe83b4-10ba-4a01-8887-ec38908bc026",
   "metadata": {},
   "source": [
    "<div class=\"px-5 pt-4\"><div class=\"_1l1MA\" data-track-load=\"qd_description_content\"><p>Given a string <code>s</code>, find the length of the <strong>longest</strong> <span data-keyword=\"substring-nonempty\" class=\" cursor-pointer relative text-dark-blue-s text-sm\"><div class=\"popover-wrapper inline-block\" data-headlessui-state=\"\"><div><div id=\"headlessui-popover-button-:rl:\" aria-expanded=\"false\" data-headlessui-state=\"\"><strong>substring</strong></div></div></div></span> without repeating characters.</p>\n",
    "\n",
    "<p>&nbsp;</p>\n",
    "<p><strong class=\"example\">Example 1:</strong></p>\n",
    "\n",
    "<pre><strong>Input:</strong> s = \"abcabcbb\"\n",
    "<strong>Output:</strong> 3\n",
    "<strong>Explanation:</strong> The answer is \"abc\", with the length of 3.\n",
    "</pre>\n",
    "\n",
    "<p><strong class=\"example\">Example 2:</strong></p>\n",
    "\n",
    "<pre><strong>Input:</strong> s = \"bbbbb\"\n",
    "<strong>Output:</strong> 1\n",
    "<strong>Explanation:</strong> The answer is \"b\", with the length of 1.\n",
    "</pre>\n",
    "\n",
    "<p><strong class=\"example\">Example 3:</strong></p>\n",
    "\n",
    "<pre><strong>Input:</strong> s = \"pwwkew\"\n",
    "<strong>Output:</strong> 3\n",
    "<strong>Explanation:</strong> The answer is \"wke\", with the length of 3.\n",
    "Notice that the answer must be a substring, \"pwke\" is a subsequence and not a substring.\n",
    "</pre>\n",
    "\n",
    "<p>&nbsp;</p>\n",
    "<p><strong>Constraints:</strong></p>\n",
    "\n",
    "<ul>\n",
    "\t<li><code>0 &lt;= s.length &lt;= 5 * 10<sup>4</sup></code></li>\n",
    "\t<li><code>s</code> consists of English letters, digits, symbols and spaces.</li>\n",
    "</ul>\n",
    "</div></div>"
   ]
  },
  {
   "cell_type": "markdown",
   "id": "6eb0968d-4414-47b7-a499-def7e188dea3",
   "metadata": {},
   "source": [
    "# Solution -1 (Brute force)"
   ]
  },
  {
   "cell_type": "code",
   "execution_count": 47,
   "id": "ad8d3477-a02c-4f13-9eef-fd67ab0d24f3",
   "metadata": {},
   "outputs": [],
   "source": [
    "### This passes all the test cases except one\n",
    "## Runs into memory limit"
   ]
  },
  {
   "cell_type": "code",
   "execution_count": 48,
   "id": "d96181f1-65d4-468a-be39-c2c398d0c0a7",
   "metadata": {},
   "outputs": [
    {
     "data": {
      "text/plain": [
       "3"
      ]
     },
     "execution_count": 48,
     "metadata": {},
     "output_type": "execute_result"
    }
   ],
   "source": [
    "class Solution:\n",
    "    def lengthOfLongestSubstring(self, s: str) -> int:\n",
    "        substrings = set()\n",
    "        if len(s) ==1:\n",
    "            return 1\n",
    "        if len(s) ==0:\n",
    "            return 0\n",
    "        for i in range(len(s)+1):\n",
    "            for j in range(i+1, len(s)+1):\n",
    "                if s[i:j] in substrings:\n",
    "                    substrings.remove(s[i:j])\n",
    "                else:\n",
    "                    substrings.add(s[i:j])\n",
    "        unique_words = set()\n",
    "        for word in substrings:\n",
    "            temp = \"\"\n",
    "            for chars in word:\n",
    "                if chars not in temp:\n",
    "                    temp +=chars\n",
    "            if temp in s:\n",
    "                unique_words.add(temp)\n",
    "        return len(max(unique_words, key=len))\n",
    "        \n",
    "sol = Solution()\n",
    "text = \"abcabcbb\"\n",
    "sol.lengthOfLongestSubstring(text) "
   ]
  },
  {
   "cell_type": "markdown",
   "id": "4033c7b1-14ab-4a7b-aee4-c9a0f2738c50",
   "metadata": {},
   "source": [
    "# Solution -2 (Most Optimal solution)"
   ]
  },
  {
   "cell_type": "code",
   "execution_count": 52,
   "id": "0a139634-50a4-4a8b-849a-e3b820613149",
   "metadata": {},
   "outputs": [
    {
     "name": "stdout",
     "output_type": "stream",
     "text": [
      "{'a': 0} 0 1\n",
      "{'a': 0, 'b': 1} 0 2\n",
      "{'a': 0, 'b': 1, 'c': 2} 0 3\n",
      "{'a': 3, 'b': 1, 'c': 2} 1 3\n",
      "{'a': 3, 'b': 4, 'c': 2} 2 3\n",
      "{'a': 3, 'b': 4, 'c': 5} 3 3\n",
      "{'a': 3, 'b': 6, 'c': 5} 5 3\n",
      "{'a': 3, 'b': 7, 'c': 5} 7 3\n"
     ]
    },
    {
     "data": {
      "text/plain": [
       "3"
      ]
     },
     "execution_count": 52,
     "metadata": {},
     "output_type": "execute_result"
    }
   ],
   "source": [
    "class Solution:\n",
    "    def lengthOfLongestSubstring(self, s: str) -> int:\n",
    "        start = 0\n",
    "        count = 0\n",
    "        dct = {}\n",
    "        for k, v in enumerate(s):\n",
    "            if v in dct and start <= dct[v]:\n",
    "                start = dct[v] + 1\n",
    "            else:\n",
    "                count = max(count, k - start + 1)\n",
    "            dct[v] = k\n",
    "            print(dct, start, count)\n",
    "        return count\n",
    "        \n",
    "sol = Solution()\n",
    "text = \"abcabcbb\"\n",
    "sol.lengthOfLongestSubstring(text) "
   ]
  },
  {
   "cell_type": "code",
   "execution_count": 54,
   "id": "8c3cb27a-13ce-4c9b-8af8-1e0ca820dd4f",
   "metadata": {},
   "outputs": [
    {
     "data": {
      "text/plain": [
       "'D:\\\\Data Science\\\\My Learnings\\\\leetcode-practice'"
      ]
     },
     "execution_count": 54,
     "metadata": {},
     "output_type": "execute_result"
    }
   ],
   "source": [
    "pwd"
   ]
  },
  {
   "cell_type": "markdown",
   "id": "19f3be04-3caa-4a71-8cf3-f1ae22024fca",
   "metadata": {},
   "source": [
    "### "
   ]
  }
 ],
 "metadata": {
  "kernelspec": {
   "display_name": "Python 3 (ipykernel)",
   "language": "python",
   "name": "python3"
  },
  "language_info": {
   "codemirror_mode": {
    "name": "ipython",
    "version": 3
   },
   "file_extension": ".py",
   "mimetype": "text/x-python",
   "name": "python",
   "nbconvert_exporter": "python",
   "pygments_lexer": "ipython3",
   "version": "3.9.13"
  }
 },
 "nbformat": 4,
 "nbformat_minor": 5
}
