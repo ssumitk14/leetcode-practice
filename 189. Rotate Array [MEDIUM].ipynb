{
 "cells": [
  {
   "cell_type": "markdown",
   "id": "18076cd5-fb88-4d08-bca6-a7362e380f04",
   "metadata": {},
   "source": [
    "<div class=\"px-5 pt-4\"><div class=\"flex\"></div><div class=\"xFUwe\" data-track-load=\"description_content\"><p>Given an integer array <code>nums</code>, rotate the array to the right by <code>k</code> steps, where <code>k</code> is non-negative.</p>\n",
    "\n",
    "<p>&nbsp;</p>\n",
    "<p><strong class=\"example\">Example 1:</strong></p>\n",
    "\n",
    "<pre><strong>Input:</strong> nums = [1,2,3,4,5,6,7], k = 3\n",
    "<strong>Output:</strong> [5,6,7,1,2,3,4]\n",
    "<strong>Explanation:</strong>\n",
    "rotate 1 steps to the right: [7,1,2,3,4,5,6]\n",
    "rotate 2 steps to the right: [6,7,1,2,3,4,5]\n",
    "rotate 3 steps to the right: [5,6,7,1,2,3,4]\n",
    "</pre>\n",
    "\n",
    "<p><strong class=\"example\">Example 2:</strong></p>\n",
    "\n",
    "<pre><strong>Input:</strong> nums = [-1,-100,3,99], k = 2\n",
    "<strong>Output:</strong> [3,99,-1,-100]\n",
    "<strong>Explanation:</strong> \n",
    "rotate 1 steps to the right: [99,-1,-100,3]\n",
    "rotate 2 steps to the right: [3,99,-1,-100]\n",
    "</pre>\n",
    "\n",
    "<p>&nbsp;</p>\n",
    "<p><strong>Constraints:</strong></p>\n",
    "\n",
    "<ul>\n",
    "\t<li><code>1 &lt;= nums.length &lt;= 10<sup>5</sup></code></li>\n",
    "\t<li><code>-2<sup>31</sup> &lt;= nums[i] &lt;= 2<sup>31</sup> - 1</code></li>\n",
    "\t<li><code>0 &lt;= k &lt;= 10<sup>5</sup></code></li>\n",
    "</ul>\n",
    "\n",
    "<p>&nbsp;</p>\n",
    "<p><strong>Follow up:</strong></p>\n",
    "\n",
    "<ul>\n",
    "\t<li>Try to come up with as many solutions as you can. There are at least <strong>three</strong> different ways to solve this problem.</li>\n",
    "\t<li>Could you do it in-place with <code>O(1)</code> extra space?</li>\n",
    "</ul>\n",
    "</div></div>"
   ]
  },
  {
   "cell_type": "code",
   "execution_count": 2,
   "id": "3b218acf-3687-4d34-9b6e-a1818808e3e9",
   "metadata": {},
   "outputs": [],
   "source": [
    "class Solution:\n",
    "    # This does not pass all the cases\n",
    "    def rotate(self, nums: list[int], k: int) -> None:\n",
    "        \"\"\"\n",
    "        Do not return anything, modify nums in-place instead.\n",
    "        \"\"\"\n",
    "        \"\"\"\n",
    "        Runtime Details: 179ms\n",
    "        Beats 89.15%of users with Python3\n",
    "        \n",
    "        Memory Details: 27.91MB\n",
    "        Beats 11.81%of users with Python3\"\"\"\n",
    "        \n",
    "        k = k % len(nums)\n",
    "        size = len(nums)\n",
    "        if k==0:\n",
    "            pass\n",
    "        else:\n",
    "            temp = nums[:len(nums)-k]\n",
    "            nums[:] = nums[-k:] + temp"
   ]
  },
  {
   "cell_type": "code",
   "execution_count": 47,
   "id": "38d43fb1-afce-4fae-8e38-9797ce6b92be",
   "metadata": {},
   "outputs": [],
   "source": [
    "\"\"\"Memory Details\n",
    "27.60MB\n",
    "Beats 99.36%of users with Python3\n",
    "\n",
    "Runtime Details\n",
    "1862ms\n",
    "Beats 16.18%of users with Python3\n",
    "\"\"\"\n",
    "def rotate(nums, k):\n",
    "    effective_k = k % len(nums)\n",
    "    for i in range(effective_k):\n",
    "        last_element = nums.pop()\n",
    "        nums.insert(0, last_element)\n",
    "    nums[:] = nums\n",
    "    return nums\n",
    "                "
   ]
  },
  {
   "cell_type": "code",
   "execution_count": 49,
   "id": "33687d4b-aa97-4bd2-b942-429b70913f35",
   "metadata": {},
   "outputs": [
    {
     "data": {
      "text/plain": [
       "[5, 6, 7, 1, 2, 3, 4]"
      ]
     },
     "execution_count": 49,
     "metadata": {},
     "output_type": "execute_result"
    }
   ],
   "source": [
    "nums = [1,2,3,4,5,6,7] #[1,2]\n",
    "k = 3\n",
    "rotate(nums, k)"
   ]
  },
  {
   "cell_type": "code",
   "execution_count": null,
   "id": "f013605f-5ce3-44c7-8e9d-1f4522ccab16",
   "metadata": {},
   "outputs": [],
   "source": []
  }
 ],
 "metadata": {
  "kernelspec": {
   "display_name": "Python 3 (ipykernel)",
   "language": "python",
   "name": "python3"
  },
  "language_info": {
   "codemirror_mode": {
    "name": "ipython",
    "version": 3
   },
   "file_extension": ".py",
   "mimetype": "text/x-python",
   "name": "python",
   "nbconvert_exporter": "python",
   "pygments_lexer": "ipython3",
   "version": "3.9.13"
  }
 },
 "nbformat": 4,
 "nbformat_minor": 5
}
