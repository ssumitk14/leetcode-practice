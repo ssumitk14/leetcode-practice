{
 "cells": [
  {
   "cell_type": "markdown",
   "id": "328aab95-b416-4739-8732-c2efa4337065",
   "metadata": {},
   "source": [
    "<div class=\"_1l1MA\"><p>Given a string <code>columnTitle</code> that represents the column title as appears in an Excel sheet, return <em>its corresponding column number</em>.</p>\n",
    "\n",
    "<p>For example:</p>\n",
    "\n",
    "<pre>A -&gt; 1\n",
    "B -&gt; 2\n",
    "C -&gt; 3\n",
    "...\n",
    "Z -&gt; 26\n",
    "AA -&gt; 27\n",
    "AB -&gt; 28 \n",
    "...\n",
    "</pre>\n",
    "\n",
    "<p>&nbsp;</p>\n",
    "<p><strong class=\"example\">Example 1:</strong></p>\n",
    "\n",
    "<pre><strong>Input:</strong> columnTitle = \"A\"\n",
    "<strong>Output:</strong> 1\n",
    "</pre>\n",
    "\n",
    "<p><strong class=\"example\">Example 2:</strong></p>\n",
    "\n",
    "<pre><strong>Input:</strong> columnTitle = \"AB\"\n",
    "<strong>Output:</strong> 28\n",
    "</pre>\n",
    "\n",
    "<p><strong class=\"example\">Example 3:</strong></p>\n",
    "\n",
    "<pre><strong>Input:</strong> columnTitle = \"ZY\"\n",
    "<strong>Output:</strong> 701\n",
    "</pre>\n",
    "\n",
    "<p>&nbsp;</p>\n",
    "<p><strong>Constraints:</strong></p>\n",
    "\n",
    "<ul>\n",
    "\t<li><code>1 &lt;= columnTitle.length &lt;= 7</code></li>\n",
    "\t<li><code>columnTitle</code> consists only of uppercase English letters.</li>\n",
    "\t<li><code>columnTitle</code> is in the range <code>[\"A\", \"FXSHRXW\"]</code>.</li>\n",
    "</ul>\n",
    "</div>"
   ]
  },
  {
   "cell_type": "code",
   "execution_count": 3,
   "id": "8bc65758-0a38-46fb-962c-b2fb0dba4301",
   "metadata": {},
   "outputs": [
    {
     "data": {
      "text/plain": [
       "701"
      ]
     },
     "execution_count": 3,
     "metadata": {},
     "output_type": "execute_result"
    }
   ],
   "source": [
    "class Solution:\n",
    "    def titleToNumber(self, columnTitle: str) -> int:\n",
    "        val = [i for i in range(1,27)]\n",
    "        alphabets = list(\"ABCDEFGHIJKLMNOPQRSTUVWXYZ\")\n",
    "        dct = dict(zip(alphabets, val))\n",
    "        \n",
    "        result = 0\n",
    "        \n",
    "        for i in columnTitle:\n",
    "            result = result * 26 + dct[i]\n",
    "        return result\n",
    "sol = Solution()\n",
    "sol.titleToNumber(\"ZY\")"
   ]
  },
  {
   "cell_type": "code",
   "execution_count": null,
   "id": "aa2972c9-6a82-414f-946b-1072724ed985",
   "metadata": {},
   "outputs": [],
   "source": []
  }
 ],
 "metadata": {
  "kernelspec": {
   "display_name": "Python 3 (ipykernel)",
   "language": "python",
   "name": "python3"
  },
  "language_info": {
   "codemirror_mode": {
    "name": "ipython",
    "version": 3
   },
   "file_extension": ".py",
   "mimetype": "text/x-python",
   "name": "python",
   "nbconvert_exporter": "python",
   "pygments_lexer": "ipython3",
   "version": "3.9.13"
  }
 },
 "nbformat": 4,
 "nbformat_minor": 5
}
