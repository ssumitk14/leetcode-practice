{
 "cells": [
  {
   "cell_type": "markdown",
   "id": "203f88d7-bda9-49b9-a879-d95fe6fa3be2",
   "metadata": {},
   "source": [
    "<div class=\"px-5 pt-4\"><div class=\"_1l1MA\" data-track-load=\"qd_description_content\"><p>Given a string <code>s</code>, return <em>the longest</em> <span data-keyword=\"palindromic-string\" class=\" cursor-pointer relative text-dark-blue-s text-sm\"><div class=\"popover-wrapper inline-block\" data-headlessui-state=\"\"><div><div id=\"headlessui-popover-button-:r8o:\" aria-expanded=\"false\" data-headlessui-state=\"\"><em>palindromic</em></div></div></div></span> <span data-keyword=\"substring-nonempty\" class=\" cursor-pointer relative text-dark-blue-s text-sm\"><div class=\"popover-wrapper inline-block\" data-headlessui-state=\"\"><div><div id=\"headlessui-popover-button-:r8r:\" aria-expanded=\"false\" data-headlessui-state=\"\"><em>substring</em></div></div></div></span> in <code>s</code>.</p>\n",
    "\n",
    "<p>&nbsp;</p>\n",
    "<p><strong class=\"example\">Example 1:</strong></p>\n",
    "\n",
    "<pre><strong>Input:</strong> s = \"babad\"\n",
    "<strong>Output:</strong> \"bab\"\n",
    "<strong>Explanation:</strong> \"aba\" is also a valid answer.\n",
    "</pre>\n",
    "\n",
    "<p><strong class=\"example\">Example 2:</strong></p>\n",
    "\n",
    "<pre><strong>Input:</strong> s = \"cbbd\"\n",
    "<strong>Output:</strong> \"bb\"\n",
    "</pre>\n",
    "\n",
    "<p>&nbsp;</p>\n",
    "<p><strong>Constraints:</strong></p>\n",
    "\n",
    "<ul>\n",
    "\t<li><code>1 &lt;= s.length &lt;= 1000</code></li>\n",
    "\t<li><code>s</code> consist of only digits and English letters.</li>\n",
    "</ul>\n",
    "</div></div>"
   ]
  },
  {
   "cell_type": "code",
   "execution_count": 1,
   "id": "d1914ac8-4638-4b88-ad00-64dafabb5336",
   "metadata": {},
   "outputs": [],
   "source": [
    "## This solution runs into time limit exceeded\n",
    "class Solution:\n",
    "    def longestPalindrome(self, s: str) -> str:\n",
    "        if len(s) == 1:\n",
    "            return s\n",
    "        if s == s[::-1]:\n",
    "            return s\n",
    "        prev_palindrome = \"\"\n",
    "        palindrome_found = \"\"\n",
    "        # palindrome_list = []\n",
    "        for i in range(len(s)):\n",
    "            for j in range(i+1, len(s)+1):\n",
    "                if s[i:j] == \"\".join(reversed(s[i:j])):\n",
    "                    palindrome_found = s[i:j]\n",
    "                    # palindrome_list.append(palindrome_found)\n",
    "                if len(palindrome_found) > len(prev_palindrome):\n",
    "                    prev_palindrome = palindrome_found\n",
    "                palindrome_found = \"\"\n",
    "\n",
    "        return prev_palindrome\n"
   ]
  },
  {
   "cell_type": "code",
   "execution_count": 2,
   "id": "fa24d63c-b9c4-40a7-abac-bb87659e1aaf",
   "metadata": {},
   "outputs": [
    {
     "data": {
      "text/plain": [
       "'bab'"
      ]
     },
     "execution_count": 2,
     "metadata": {},
     "output_type": "execute_result"
    }
   ],
   "source": [
    "sol = Solution()\n",
    "text = \"babad\"\n",
    "result = sol.longestPalindrome(text)\n",
    "result"
   ]
  },
  {
   "cell_type": "code",
   "execution_count": 3,
   "id": "b9f0b512-401e-4504-b9fa-015f0e06b917",
   "metadata": {},
   "outputs": [],
   "source": [
    "## Approach - 2"
   ]
  },
  {
   "cell_type": "code",
   "execution_count": null,
   "id": "9ab16ca9-0854-4459-b7a8-b8d88808670d",
   "metadata": {},
   "outputs": [],
   "source": [
    "class Solution:\n",
    "    def longestPalindrome(self, s: str) -> str:\n",
    "        if len(s) == 1:\n",
    "            return s\n",
    "        if s == s[::-1]:\n",
    "            return s\n",
    "        prev_palindrome = \"\"\n",
    "        current_palindrome = \"\"\n",
    "        for i in range"
   ]
  },
  {
   "cell_type": "code",
   "execution_count": null,
   "id": "97626521-afc1-48ac-a6dc-314f1656fe76",
   "metadata": {},
   "outputs": [],
   "source": []
  },
  {
   "cell_type": "code",
   "execution_count": null,
   "id": "e78b8b10-abba-4263-a8a6-e105192c7e41",
   "metadata": {},
   "outputs": [],
   "source": []
  },
  {
   "cell_type": "code",
   "execution_count": null,
   "id": "51c0d103-9410-4d0f-929a-44194a97764e",
   "metadata": {},
   "outputs": [],
   "source": []
  },
  {
   "cell_type": "markdown",
   "id": "70e03fa6-145d-4732-a985-b63e889fa288",
   "metadata": {
    "jp-MarkdownHeadingCollapsed": true,
    "tags": []
   },
   "source": [
    "## Scratch"
   ]
  },
  {
   "cell_type": "code",
   "execution_count": 64,
   "id": "a35c0949-5a97-4a25-b965-68d80c9a666d",
   "metadata": {},
   "outputs": [
    {
     "data": {
      "text/plain": [
       "['a', 'c']"
      ]
     },
     "execution_count": 64,
     "metadata": {},
     "output_type": "execute_result"
    }
   ],
   "source": [
    "test = \"ac\"\n",
    "prev_palindrome = \"\"\n",
    "palindrome_found = \"\"\n",
    "palindrome_list = []\n",
    "for i in range(len(test)):\n",
    "    for j in range(i+1, len(test)+1):\n",
    "        if test[i:j] == \"\".join(reversed(test[i:j])):\n",
    "            palindrome_found = test[i:j]\n",
    "            palindrome_list.append(palindrome_found)\n",
    "        if len(palindrome_found) > len(prev_palindrome):\n",
    "            prev_palindrome = palindrome_found\n",
    "        palindrome_found = \"\"\n",
    "\n",
    "palindrome_list"
   ]
  },
  {
   "cell_type": "code",
   "execution_count": 65,
   "id": "e343c69b-6c13-4c24-96cc-e6b61ff10c20",
   "metadata": {},
   "outputs": [
    {
     "data": {
      "text/plain": [
       "'a'"
      ]
     },
     "execution_count": 65,
     "metadata": {},
     "output_type": "execute_result"
    }
   ],
   "source": [
    "prev_palindrome"
   ]
  },
  {
   "cell_type": "code",
   "execution_count": 26,
   "id": "336af1b9-f706-4b29-bde1-89f1a54031ff",
   "metadata": {},
   "outputs": [
    {
     "data": {
      "text/plain": [
       "'bab'"
      ]
     },
     "execution_count": 26,
     "metadata": {},
     "output_type": "execute_result"
    }
   ],
   "source": [
    "test = \"tbabad\"\n",
    "test[1:4]"
   ]
  },
  {
   "cell_type": "code",
   "execution_count": 28,
   "id": "56b0b4ed-d770-407f-9b2e-4f9d9212e914",
   "metadata": {},
   "outputs": [
    {
     "data": {
      "text/plain": [
       "'bab'"
      ]
     },
     "execution_count": 28,
     "metadata": {},
     "output_type": "execute_result"
    }
   ],
   "source": [
    "test[3:0:-1]"
   ]
  },
  {
   "cell_type": "code",
   "execution_count": 32,
   "id": "0d04ed69-0700-468f-bd18-88d074a238ae",
   "metadata": {},
   "outputs": [
    {
     "data": {
      "text/plain": [
       "'bab'"
      ]
     },
     "execution_count": 32,
     "metadata": {},
     "output_type": "execute_result"
    }
   ],
   "source": [
    "\"\".join((reversed(test[1:4])))"
   ]
  },
  {
   "cell_type": "code",
   "execution_count": null,
   "id": "43d60ebe-523d-4afe-961f-aa941e44ec43",
   "metadata": {},
   "outputs": [],
   "source": []
  }
 ],
 "metadata": {
  "kernelspec": {
   "display_name": "Python 3 (ipykernel)",
   "language": "python",
   "name": "python3"
  },
  "language_info": {
   "codemirror_mode": {
    "name": "ipython",
    "version": 3
   },
   "file_extension": ".py",
   "mimetype": "text/x-python",
   "name": "python",
   "nbconvert_exporter": "python",
   "pygments_lexer": "ipython3",
   "version": "3.9.13"
  }
 },
 "nbformat": 4,
 "nbformat_minor": 5
}
