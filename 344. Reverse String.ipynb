{
 "cells": [
  {
   "cell_type": "code",
   "execution_count": 33,
   "id": "d644a362-b15d-4744-8e02-9a6f3bb33c2d",
   "metadata": {},
   "outputs": [
    {
     "name": "stdout",
     "output_type": "stream",
     "text": [
      "Wall time: 0 ns\n"
     ]
    },
    {
     "data": {
      "text/plain": [
       "['t', 'i', 'm', 'u', 's']"
      ]
     },
     "execution_count": 33,
     "metadata": {},
     "output_type": "execute_result"
    }
   ],
   "source": [
    "class Solution:\n",
    "    def reverseString(self, s: list[str]) -> None:\n",
    "        \"\"\"\n",
    "        Do not return anything, modify s in-place instead.\n",
    "        \"\"\"\n",
    "        s[:] = s[::-1]\n",
    "        \n",
    "        return s\n",
    "\n",
    "sol = Solution()\n",
    "test = \"sumit\"\n",
    "test = list(test)\n",
    "sol.reverseString(test)"
   ]
  },
  {
   "cell_type": "code",
   "execution_count": 34,
   "id": "7088fb49-0b89-4696-a3a7-b065cf6d60de",
   "metadata": {},
   "outputs": [
    {
     "data": {
      "text/plain": [
       "['t', 'i', 'm', 'u', 's']"
      ]
     },
     "execution_count": 34,
     "metadata": {},
     "output_type": "execute_result"
    }
   ],
   "source": [
    "class Solution:\n",
    "    def reverseString(self, s: list[str]) -> None:\n",
    "        \"\"\"\n",
    "        Do not return anything, modify s in-place instead.\n",
    "        \"\"\"\n",
    "        for i in range(len(s)-1):\n",
    "            temp = s.pop()\n",
    "            s.insert(i,temp)\n",
    "        return s\n",
    "\n",
    "sol = Solution()\n",
    "test = \"sumit\"\n",
    "test = list(test)\n",
    "sol.reverseString(test)"
   ]
  },
  {
   "cell_type": "code",
   "execution_count": null,
   "id": "1d778d30-556c-4d42-b424-f792ba7f6e14",
   "metadata": {},
   "outputs": [],
   "source": []
  }
 ],
 "metadata": {
  "kernelspec": {
   "display_name": "Python 3 (ipykernel)",
   "language": "python",
   "name": "python3"
  },
  "language_info": {
   "codemirror_mode": {
    "name": "ipython",
    "version": 3
   },
   "file_extension": ".py",
   "mimetype": "text/x-python",
   "name": "python",
   "nbconvert_exporter": "python",
   "pygments_lexer": "ipython3",
   "version": "3.9.13"
  }
 },
 "nbformat": 4,
 "nbformat_minor": 5
}
