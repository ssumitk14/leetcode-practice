{
 "cells": [
  {
   "cell_type": "markdown",
   "id": "3b0845fc-3841-40b4-8b1f-80992f1fe3bd",
   "metadata": {},
   "source": [
    "<div class=\"_1l1MA\" data-track-load=\"qd_description_content\"><p>Given an integer array <code>nums</code> of <strong>unique</strong> elements, return <em>all possible</em> <span data-keyword=\"subset\" class=\" cursor-pointer relative text-dark-blue-s text-sm\"><div class=\"popover-wrapper inline-block\" data-headlessui-state=\"\"><div><div id=\"headlessui-popover-button-:ra:\" aria-expanded=\"false\" data-headlessui-state=\"\"><em>subsets</em></div></div></div></span> <em>(the power set)</em>.</p>\n",
    "\n",
    "<p>The solution set <strong>must not</strong> contain duplicate subsets. Return the solution in <strong>any order</strong>.</p>\n",
    "\n",
    "<p>&nbsp;</p>\n",
    "<p><strong class=\"example\">Example 1:</strong></p>\n",
    "\n",
    "<pre><strong>Input:</strong> nums = [1,2,3]\n",
    "<strong>Output:</strong> [[],[1],[2],[1,2],[3],[1,3],[2,3],[1,2,3]]\n",
    "</pre>\n",
    "\n",
    "<p><strong class=\"example\">Example 2:</strong></p>\n",
    "\n",
    "<pre><strong>Input:</strong> nums = [0]\n",
    "<strong>Output:</strong> [[],[0]]\n",
    "</pre>\n",
    "\n",
    "<p>&nbsp;</p>\n",
    "<p><strong>Constraints:</strong></p>\n",
    "\n",
    "<ul>\n",
    "\t<li><code>1 &lt;= nums.length &lt;= 10</code></li>\n",
    "\t<li><code>-10 &lt;= nums[i] &lt;= 10</code></li>\n",
    "\t<li>All the numbers of&nbsp;<code>nums</code> are <strong>unique</strong>.</li>\n",
    "</ul>\n",
    "</div>"
   ]
  },
  {
   "cell_type": "code",
   "execution_count": null,
   "id": "a38b1166-0b8d-4b88-9557-e3889c348e1f",
   "metadata": {},
   "outputs": [],
   "source": [
    "import random\n",
    "\n",
    "class Solution:\n",
    "    def subsets(self, nums: List[int]) -> List[List[int]]:\n",
    "        res = [[]]\n",
    "        total_possible_subsets = 2**len(nums)-1\n",
    "        "
   ]
  },
  {
   "cell_type": "code",
   "execution_count": null,
   "id": "b62c1d6a-e90e-4dc0-89d4-c2489ecff715",
   "metadata": {},
   "outputs": [],
   "source": [
    "nums = [1,2,3]\n",
    "res = {}\n",
    "previous = 1\n",
    "num_of_elements = 2**len(nums) - 1\n",
    "for i in range(num_of_elements):\n",
    "    while len(res)"
   ]
  },
  {
   "cell_type": "code",
   "execution_count": 13,
   "id": "50939a8e-7deb-437c-9524-57824c5d325d",
   "metadata": {},
   "outputs": [
    {
     "name": "stdout",
     "output_type": "stream",
     "text": [
      "numbers [1, 2, 3]\n",
      "numbers [2, 3]\n",
      "numbers [3]\n",
      "numbers []\n",
      "Found Empty\n",
      "value  [[]]\n",
      "numbers::  [3]\n",
      "value  [[], [3]]\n",
      "numbers::  [2, 3]\n",
      "value  [[], [3], [2], [2, 3]]\n",
      "numbers::  [1, 2, 3]\n"
     ]
    },
    {
     "data": {
      "text/plain": [
       "[[], [3], [2], [2, 3], [1], [1, 3], [1, 2], [1, 2, 3]]"
      ]
     },
     "execution_count": 13,
     "metadata": {},
     "output_type": "execute_result"
    }
   ],
   "source": [
    "def subsets(numbers):\n",
    "    print(\"numbers\", numbers)\n",
    "    if numbers == []:\n",
    "        print(\"Found Empty\")\n",
    "        return [[]]\n",
    "    x = subsets(numbers[1:])\n",
    "    print(\"value \",x)\n",
    "    print(\"numbers:: \",numbers)\n",
    "    return x + [[numbers[0]] + y for y in x]\n",
    " \n",
    "nums = [1,2,3]\n",
    "subsets(nums)"
   ]
  },
  {
   "cell_type": "code",
   "execution_count": null,
   "id": "ead35752-3973-4a3f-963e-112666729c8c",
   "metadata": {},
   "outputs": [],
   "source": []
  },
  {
   "cell_type": "code",
   "execution_count": null,
   "id": "0aef70c8-6016-492b-a401-18e75532f2b1",
   "metadata": {},
   "outputs": [],
   "source": []
  },
  {
   "cell_type": "code",
   "execution_count": null,
   "id": "e582ffd8-dd00-46c9-b82f-f6519aa282ec",
   "metadata": {},
   "outputs": [],
   "source": []
  },
  {
   "cell_type": "code",
   "execution_count": 1,
   "id": "4b50fe76-3372-4aa4-b212-fc2abde8ce29",
   "metadata": {},
   "outputs": [
    {
     "data": {
      "text/plain": [
       "15"
      ]
     },
     "execution_count": 1,
     "metadata": {},
     "output_type": "execute_result"
    }
   ],
   "source": [
    "[1,2,3,4]\n",
    "len([1,2,3,4,12,13,14,23,24,34,123,124,234,1234,[]])"
   ]
  },
  {
   "cell_type": "code",
   "execution_count": null,
   "id": "39b9ba12-8a9c-4581-9d0c-67f8e2eba29c",
   "metadata": {},
   "outputs": [],
   "source": [
    "[1,2,3]\n",
    "len([1,2,3,12,13,23,123[]])"
   ]
  },
  {
   "cell_type": "code",
   "execution_count": 4,
   "id": "4e8a3049-71aa-4c0d-b5f8-ec826acb9466",
   "metadata": {},
   "outputs": [
    {
     "data": {
      "text/plain": [
       "19"
      ]
     },
     "execution_count": 4,
     "metadata": {},
     "output_type": "execute_result"
    }
   ],
   "source": [
    "[1,2,3,4,5]\n",
    "len([1,2,3,4,5,12,13,14,15,23,24,25,34,35,45,123,124,234,1234,[]])"
   ]
  },
  {
   "cell_type": "code",
   "execution_count": null,
   "id": "8f53aab8-9991-40e6-9a91-ca2a3c01faff",
   "metadata": {},
   "outputs": [],
   "source": [
    "[1,2,3,4,5,6]\n",
    "len([1,2,3,4,5,12,13,14,15,16,23,24,25,26,34,,45,123,124,234,1234,[]])"
   ]
  },
  {
   "cell_type": "code",
   "execution_count": null,
   "id": "41572db6-52d5-47ba-8e2d-6fdaa13625c1",
   "metadata": {},
   "outputs": [],
   "source": [
    "3 -> 3\n",
    "4 -> 6\n",
    "5 -> 9"
   ]
  }
 ],
 "metadata": {
  "kernelspec": {
   "display_name": "Python 3 (ipykernel)",
   "language": "python",
   "name": "python3"
  },
  "language_info": {
   "codemirror_mode": {
    "name": "ipython",
    "version": 3
   },
   "file_extension": ".py",
   "mimetype": "text/x-python",
   "name": "python",
   "nbconvert_exporter": "python",
   "pygments_lexer": "ipython3",
   "version": "3.9.13"
  }
 },
 "nbformat": 4,
 "nbformat_minor": 5
}
