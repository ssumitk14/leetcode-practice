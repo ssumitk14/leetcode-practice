{
 "cells": [
  {
   "cell_type": "markdown",
   "id": "22d7be56-b74b-4a02-b067-aecfa9f40a69",
   "metadata": {},
   "source": [
    "<div class=\"_1l1MA\"><p>You are given an array <code>prices</code> where <code>prices[i]</code> is the price of a given stock on the <code>i<sup>th</sup></code> day.</p>\n",
    "\n",
    "<p>You want to maximize your profit by choosing a <strong>single day</strong> to buy one stock and choosing a <strong>different day in the future</strong> to sell that stock.</p>\n",
    "\n",
    "<p>Return <em>the maximum profit you can achieve from this transaction</em>. If you cannot achieve any profit, return <code>0</code>.</p>\n",
    "\n",
    "<p>&nbsp;</p>\n",
    "<p><strong class=\"example\">Example 1:</strong></p>\n",
    "\n",
    "<pre><strong>Input:</strong> prices = [7,1,5,3,6,4]\n",
    "<strong>Output:</strong> 5\n",
    "<strong>Explanation:</strong> Buy on day 2 (price = 1) and sell on day 5 (price = 6), profit = 6-1 = 5.\n",
    "Note that buying on day 2 and selling on day 1 is not allowed because you must buy before you sell.\n",
    "</pre>\n",
    "\n",
    "<p><strong class=\"example\">Example 2:</strong></p>\n",
    "\n",
    "<pre><strong>Input:</strong> prices = [7,6,4,3,1]\n",
    "<strong>Output:</strong> 0\n",
    "<strong>Explanation:</strong> In this case, no transactions are done and the max profit = 0.\n",
    "</pre>\n",
    "\n",
    "<p>&nbsp;</p>\n",
    "<p><strong>Constraints:</strong></p>\n",
    "\n",
    "<ul>\n",
    "\t<li><code>1 &lt;= prices.length &lt;= 10<sup>5</sup></code></li>\n",
    "\t<li><code>0 &lt;= prices[i] &lt;= 10<sup>4</sup></code></li>\n",
    "</ul>\n",
    "</div>"
   ]
  },
  {
   "cell_type": "markdown",
   "id": "35a7f1ee-5cca-447b-8753-cd6e112967c0",
   "metadata": {},
   "source": [
    "### Solution -1 (Time limit exceeded)"
   ]
  },
  {
   "cell_type": "code",
   "execution_count": 8,
   "id": "9dfc2cba-cfee-44a6-979c-fc5601db1409",
   "metadata": {},
   "outputs": [
    {
     "data": {
      "text/plain": [
       "5"
      ]
     },
     "execution_count": 8,
     "metadata": {},
     "output_type": "execute_result"
    }
   ],
   "source": [
    "class Solution:\n",
    "    def maxProfit(self, prices: list[int]) -> int:\n",
    "        max_profit = 0\n",
    "        prev_max_profit = 0\n",
    "        for i in range(len(prices)-1):\n",
    "            for j in range(i, len(prices)):\n",
    "                if prices[i]<prices[j]:\n",
    "                    max_profit = prices[j] - prices[i]\n",
    "                    if prev_max_profit<max_profit:\n",
    "                        prev_max_profit = max_profit\n",
    "        return prev_max_profit\n",
    "prices = [7,1,5,3,6,4]\n",
    "sol = Solution()\n",
    "sol.maxProfit(prices)"
   ]
  },
  {
   "cell_type": "markdown",
   "id": "009d987d-daa6-49ae-895e-57421f1eab18",
   "metadata": {},
   "source": [
    "### Solution - 2"
   ]
  },
  {
   "cell_type": "code",
   "execution_count": 11,
   "id": "d5e56d11-a0e0-4b6d-9115-abaf8c4a7548",
   "metadata": {},
   "outputs": [
    {
     "data": {
      "text/plain": [
       "5"
      ]
     },
     "execution_count": 11,
     "metadata": {},
     "output_type": "execute_result"
    }
   ],
   "source": [
    "class Solution:\n",
    "    def maxProfit(self, prices: list[int]) -> int:\n",
    "        max_profit = 0\n",
    "        min_purchase = prices[0]\n",
    "        for i in range(1, len(prices)):\n",
    "            max_profit = max(max_profit, prices[i] - min_purchase)\n",
    "            min_purchase = min(min_purchase, prices[i])\n",
    "        return max_profit\n",
    "    \n",
    "prices = [7,1,5,3,6,4]\n",
    "sol = Solution()\n",
    "sol.maxProfit(prices)"
   ]
  },
  {
   "cell_type": "code",
   "execution_count": null,
   "id": "8aca6575-2515-44a7-bdd9-721bc1c369ec",
   "metadata": {},
   "outputs": [],
   "source": []
  }
 ],
 "metadata": {
  "kernelspec": {
   "display_name": "Python 3 (ipykernel)",
   "language": "python",
   "name": "python3"
  },
  "language_info": {
   "codemirror_mode": {
    "name": "ipython",
    "version": 3
   },
   "file_extension": ".py",
   "mimetype": "text/x-python",
   "name": "python",
   "nbconvert_exporter": "python",
   "pygments_lexer": "ipython3",
   "version": "3.9.13"
  }
 },
 "nbformat": 4,
 "nbformat_minor": 5
}
