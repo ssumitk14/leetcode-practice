{
 "cells": [
  {
   "cell_type": "markdown",
   "id": "61f2c61e-9ed4-4d3f-8db0-425a5409f980",
   "metadata": {},
   "source": [
    "<p>Given an integer <code>n</code>, return <em>a string array </em><code>answer</code><em> (<strong>1-indexed</strong>) where</em>:</p>"
   ]
  },
  {
   "cell_type": "markdown",
   "id": "46f95dc1-e4c7-49d0-a20a-50d7d9d3f405",
   "metadata": {},
   "source": [
    "<ul>\n",
    "\t<li><code>answer[i] == \"FizzBuzz\"</code> if <code>i</code> is divisible by <code>3</code> and <code>5</code>.</li>\n",
    "\t<li><code>answer[i] == \"Fizz\"</code> if <code>i</code> is divisible by <code>3</code>.</li>\n",
    "\t<li><code>answer[i] == \"Buzz\"</code> if <code>i</code> is divisible by <code>5</code>.</li>\n",
    "\t<li><code>answer[i] == i</code> (as a string) if none of the above conditions are true.</li>\n",
    "</ul>\n",
    "\n",
    "<p><strong class=\"example\">Example 1:</strong></p>\n",
    "<pre><strong>Input:</strong> n = 3\n",
    "<strong>Output:</strong> [\"1\",\"2\",\"Fizz\"]\n",
    "</pre>\n",
    "\n",
    "<p><strong class=\"example\">Example 3:</strong></p>\n",
    "<pre><strong>Input:</strong> n = 15\n",
    "<strong>Output:</strong> [\"1\",\"2\",\"Fizz\",\"4\",\"Buzz\",\"Fizz\",\"7\",\"8\",\"Fizz\",\"Buzz\",\"11\",\"Fizz\",\"13\",\"14\",\"FizzBuzz\"]\n",
    "</pre>"
   ]
  },
  {
   "cell_type": "markdown",
   "id": "53c9309b-3e97-4027-8ce6-47adb1c60797",
   "metadata": {},
   "source": [
    "### Solution-1"
   ]
  },
  {
   "cell_type": "code",
   "execution_count": 5,
   "id": "85f0849d-a45b-40ef-9a3b-6746dadac717",
   "metadata": {},
   "outputs": [
    {
     "data": {
      "text/plain": [
       "['1',\n",
       " '2',\n",
       " 'Fizz',\n",
       " '4',\n",
       " 'Buzz',\n",
       " 'Fizz',\n",
       " '7',\n",
       " '8',\n",
       " 'Fizz',\n",
       " 'Buzz',\n",
       " '11',\n",
       " 'Fizz',\n",
       " '13',\n",
       " '14',\n",
       " 'FizzBuzz']"
      ]
     },
     "execution_count": 5,
     "metadata": {},
     "output_type": "execute_result"
    }
   ],
   "source": [
    "class Solution:\n",
    "    def fizzBuzz(self, n: int) -> list[str]:\n",
    "        lst = []\n",
    "        for i in range(1,n+1):\n",
    "            if i%3==0:\n",
    "                if i%5==0:\n",
    "                    lst.append(\"FizzBuzz\")\n",
    "                else:\n",
    "                    lst.append(\"Fizz\")\n",
    "            elif i%5==0:\n",
    "                lst.append(\"Buzz\")\n",
    "            else:\n",
    "                lst.append(str(i))\n",
    "        return lst\n",
    "sol = Solution()\n",
    "sol.fizzBuzz(15)"
   ]
  },
  {
   "cell_type": "markdown",
   "id": "9c73f828-18e5-44bc-9ac4-30b948b782fc",
   "metadata": {},
   "source": [
    "### SOlution -2"
   ]
  },
  {
   "cell_type": "code",
   "execution_count": 6,
   "id": "c7e09dfb-27fa-4c25-a70b-b47a048d66ef",
   "metadata": {},
   "outputs": [
    {
     "data": {
      "text/plain": [
       "['1',\n",
       " '2',\n",
       " 'Fizz',\n",
       " '4',\n",
       " 'Buzz',\n",
       " 'Fizz',\n",
       " '7',\n",
       " '8',\n",
       " 'Fizz',\n",
       " 'Buzz',\n",
       " '11',\n",
       " 'Fizz',\n",
       " '13',\n",
       " '14',\n",
       " 'FizzBuzz']"
      ]
     },
     "execution_count": 6,
     "metadata": {},
     "output_type": "execute_result"
    }
   ],
   "source": [
    "class Solution:\n",
    "    def fizzBuzz(self, n: int) -> list[str]:\n",
    "        lst = []\n",
    "        for i in range(1,n+1):\n",
    "            if i%15==0:\n",
    "                lst.append(\"FizzBuzz\")\n",
    "            elif i%3==0:\n",
    "                lst.append(\"Fizz\")\n",
    "            elif i%5==0:\n",
    "                lst.append(\"Buzz\")\n",
    "            else:\n",
    "                lst.append(str(i))\n",
    "        return lst\n",
    "sol = Solution()\n",
    "sol.fizzBuzz(15)"
   ]
  },
  {
   "cell_type": "code",
   "execution_count": null,
   "id": "457873d1-5d71-4032-93b1-93df8c5c4e9b",
   "metadata": {},
   "outputs": [],
   "source": []
  }
 ],
 "metadata": {
  "kernelspec": {
   "display_name": "Python 3 (ipykernel)",
   "language": "python",
   "name": "python3"
  },
  "language_info": {
   "codemirror_mode": {
    "name": "ipython",
    "version": 3
   },
   "file_extension": ".py",
   "mimetype": "text/x-python",
   "name": "python",
   "nbconvert_exporter": "python",
   "pygments_lexer": "ipython3",
   "version": "3.9.13"
  }
 },
 "nbformat": 4,
 "nbformat_minor": 5
}
